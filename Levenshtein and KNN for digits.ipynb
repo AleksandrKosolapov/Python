{
 "cells": [
  {
   "cell_type": "markdown",
   "metadata": {},
   "source": [
    "### Задание 1: Завершаем практическое задание №2. Необходимо для каждой распознанной фамилии вывести на экран наиболее подходящий вариант из стартового протокола"
   ]
  },
  {
   "cell_type": "code",
   "execution_count": 1,
   "metadata": {},
   "outputs": [],
   "source": [
    "import Levenshtein"
   ]
  },
  {
   "cell_type": "code",
   "execution_count": 2,
   "metadata": {},
   "outputs": [],
   "source": [
    "#стартовый протокол:\n",
    "\n",
    "start_list = [\n",
    "    'Шехавцова Анна',\n",
    "    'Гречихина Наталья',\n",
    "    'Козлова Алена',\n",
    "    'Груздева Алина',\n",
    "    'Кущенко Анна',\n",
    "    'Чистякова Анастасия'\n",
    "]"
   ]
  },
  {
   "cell_type": "code",
   "execution_count": 3,
   "metadata": {},
   "outputs": [],
   "source": [
    "# результат расшифровки речи диктора:\n",
    "\n",
    "speech_recognition = [\n",
    "    'кучменко она',\n",
    "    'кущенко оксана',\n",
    "    'груздь алина',\n",
    "    'рычихина наталья',\n",
    "    'шиховцева на',\n",
    "    'чистова анастасия'\n",
    "]"
   ]
  },
  {
   "cell_type": "code",
   "execution_count": 4,
   "metadata": {
    "scrolled": false
   },
   "outputs": [
    {
     "name": "stdout",
     "output_type": "stream",
     "text": [
      "кучменко она ('Кущенко Анна', 5)\n",
      "кущенко оксана ('Кущенко Анна', 5)\n",
      "груздь алина ('Груздева Алина', 5)\n",
      "рычихина наталья ('Гречихина Наталья', 3)\n",
      "шиховцева на ('Шехавцова Анна', 6)\n",
      "чистова анастасия ('Чистякова Анастасия', 4)\n"
     ]
    }
   ],
   "source": [
    "#применим расстояние Левенштейна и выведем самые близкие фамилии и имена к распознанной речи:\n",
    "for recognized_name in speech_recognition:\n",
    "    distances = {real_name: Levenshtein.distance(recognized_name, real_name) for real_name in start_list}\n",
    "    print(recognized_name, sorted(distances.items(), key = lambda x: x[1])[0])"
   ]
  },
  {
   "cell_type": "markdown",
   "metadata": {},
   "source": [
    "**Посмотрим на другие метрики близости (ratio и Jaro)**"
   ]
  },
  {
   "cell_type": "code",
   "execution_count": 5,
   "metadata": {},
   "outputs": [
    {
     "name": "stdout",
     "output_type": "stream",
     "text": [
      "кучменко она ('Кущенко Анна', 0.67)\n",
      "кущенко оксана ('Кущенко Анна', 0.69)\n",
      "груздь алина ('Груздева Алина', 0.69)\n",
      "рычихина наталья ('Гречихина Наталья', 0.85)\n",
      "шиховцева на ('Шехавцова Анна', 0.62)\n",
      "чистова анастасия ('Чистякова Анастасия', 0.83)\n"
     ]
    }
   ],
   "source": [
    "#применим Levenshtein.ratio:\n",
    "for recognized_name in speech_recognition:\n",
    "    distances2 = {real_name: round(Levenshtein.ratio(recognized_name, real_name),2) for real_name in start_list}\n",
    "    print(recognized_name, sorted(distances2.items(), key = lambda x: -x[1])[0])"
   ]
  },
  {
   "cell_type": "code",
   "execution_count": 6,
   "metadata": {},
   "outputs": [
    {
     "name": "stdout",
     "output_type": "stream",
     "text": [
      "кучменко она ('Кущенко Анна', 0.69)\n",
      "кущенко оксана ('Кущенко Анна', 0.67)\n",
      "груздь алина ('Груздева Алина', 0.82)\n",
      "рычихина наталья ('Гречихина Наталья', 0.9)\n",
      "шиховцева на ('Шехавцова Анна', 0.68)\n",
      "чистова анастасия ('Чистякова Анастасия', 0.84)\n"
     ]
    }
   ],
   "source": [
    "#применим алгоритм Жаро-Винклера:\n",
    "for recognized_name in speech_recognition:\n",
    "    distances3 = {real_name: round(Levenshtein.jaro(recognized_name, real_name),2) for real_name in start_list}\n",
    "    print(recognized_name, sorted(distances3.items(), key = lambda x: -x[1])[0])"
   ]
  },
  {
   "cell_type": "markdown",
   "metadata": {},
   "source": [
    "Как видно, для данной задачи, все три способа сработали одинаково. Также список можно вывести без метрик, например:"
   ]
  },
  {
   "cell_type": "code",
   "execution_count": 7,
   "metadata": {},
   "outputs": [
    {
     "name": "stdout",
     "output_type": "stream",
     "text": [
      "кучменко она ~ Кущенко Анна\n",
      "кущенко оксана ~ Кущенко Анна\n",
      "груздь алина ~ Груздева Алина\n",
      "рычихина наталья ~ Гречихина Наталья\n",
      "шиховцева на ~ Шехавцова Анна\n",
      "чистова анастасия ~ Чистякова Анастасия\n"
     ]
    }
   ],
   "source": [
    "for recognized_name in speech_recognition:\n",
    "    distances = {real_name: Levenshtein.distance(recognized_name, real_name) for real_name in start_list}\n",
    "    print(recognized_name, '~', sorted(distances.items(), key = lambda x: x[1])[0][0])"
   ]
  },
  {
   "cell_type": "markdown",
   "metadata": {},
   "source": [
    "### Задание 2: Постройте модель kNN для распознавания цифр. Посчитайте получившееся значение точности (последняя строка в файле 7. kNN digits.ipynb)"
   ]
  },
  {
   "cell_type": "code",
   "execution_count": 8,
   "metadata": {},
   "outputs": [],
   "source": [
    "from sklearn import datasets\n",
    "from sklearn.neighbors import KNeighborsClassifier\n",
    "import matplotlib.pyplot as plt"
   ]
  },
  {
   "cell_type": "code",
   "execution_count": 9,
   "metadata": {},
   "outputs": [],
   "source": [
    "digits = datasets.load_digits()"
   ]
  },
  {
   "cell_type": "code",
   "execution_count": 10,
   "metadata": {},
   "outputs": [
    {
     "data": {
      "text/plain": [
       "array([[ 0.,  0.,  5., 13.,  9.,  1.,  0.,  0.],\n",
       "       [ 0.,  0., 13., 15., 10., 15.,  5.,  0.],\n",
       "       [ 0.,  3., 15.,  2.,  0., 11.,  8.,  0.],\n",
       "       [ 0.,  4., 12.,  0.,  0.,  8.,  8.,  0.],\n",
       "       [ 0.,  5.,  8.,  0.,  0.,  9.,  8.,  0.],\n",
       "       [ 0.,  4., 11.,  0.,  1., 12.,  7.,  0.],\n",
       "       [ 0.,  2., 14.,  5., 10., 12.,  0.,  0.],\n",
       "       [ 0.,  0.,  6., 13., 10.,  0.,  0.,  0.]])"
      ]
     },
     "execution_count": 10,
     "metadata": {},
     "output_type": "execute_result"
    }
   ],
   "source": [
    "# пример первой цифры в виде массива значений оттенков:\n",
    "digits['data'][0].reshape(8, 8)"
   ]
  },
  {
   "cell_type": "code",
   "execution_count": 11,
   "metadata": {
    "scrolled": false
   },
   "outputs": [
    {
     "data": {
      "text/plain": [
       "<Figure size 432x288 with 0 Axes>"
      ]
     },
     "metadata": {},
     "output_type": "display_data"
    },
    {
     "data": {
      "image/png": "[encoded data removed]",
      "text/plain": [
       "<Figure size 288x288 with 1 Axes>"
      ]
     },
     "metadata": {
      "needs_background": "light"
     },
     "output_type": "display_data"
    }
   ],
   "source": [
    "#нарисуем цирфу, раскрасив каждую ячейку в свой оттенок:\n",
    "plt.gray()\n",
    "plt.matshow(digits.images[0])\n",
    "plt.show() "
   ]
  },
  {
   "cell_type": "code",
   "execution_count": 12,
   "metadata": {},
   "outputs": [
    {
     "data": {
      "text/plain": [
       "array([[ 0.,  0.,  5., ...,  0.,  0.,  0.],\n",
       "       [ 0.,  0.,  0., ..., 10.,  0.,  0.],\n",
       "       [ 0.,  0.,  0., ..., 16.,  9.,  0.],\n",
       "       ...,\n",
       "       [ 0.,  0.,  1., ...,  6.,  0.,  0.],\n",
       "       [ 0.,  0.,  2., ..., 12.,  0.,  0.],\n",
       "       [ 0.,  0., 10., ..., 12.,  1.,  0.]])"
      ]
     },
     "execution_count": 12,
     "metadata": {},
     "output_type": "execute_result"
    }
   ],
   "source": [
    "digits.data"
   ]
  },
  {
   "cell_type": "code",
   "execution_count": 13,
   "metadata": {},
   "outputs": [],
   "source": [
    "# признаки и целевая переменная\n",
    "X_digits = digits.data\n",
    "Y_digits = digits.target"
   ]
  },
  {
   "cell_type": "code",
   "execution_count": 14,
   "metadata": {},
   "outputs": [
    {
     "data": {
      "text/plain": [
       "1617"
      ]
     },
     "execution_count": 14,
     "metadata": {},
     "output_type": "execute_result"
    }
   ],
   "source": [
    "#Разобьем данные на обучающую выборку и тест в пропорции 90 / 10\n",
    "split = int( len( X_digits ) * .9 )\n",
    "split"
   ]
  },
  {
   "cell_type": "code",
   "execution_count": 15,
   "metadata": {},
   "outputs": [],
   "source": [
    "X_train = X_digits[:split]\n",
    "Y_train = Y_digits[:split]"
   ]
  },
  {
   "cell_type": "code",
   "execution_count": 16,
   "metadata": {},
   "outputs": [],
   "source": [
    "X_test = X_digits[split:]\n",
    "Y_test = Y_digits[split:]"
   ]
  },
  {
   "cell_type": "code",
   "execution_count": 17,
   "metadata": {},
   "outputs": [],
   "source": [
    "from sklearn.neighbors import KNeighborsRegressor"
   ]
  },
  {
   "cell_type": "code",
   "execution_count": 18,
   "metadata": {},
   "outputs": [],
   "source": [
    "knn = KNeighborsRegressor( n_neighbors = 4, n_jobs= -1, p=2)"
   ]
  },
  {
   "cell_type": "code",
   "execution_count": 19,
   "metadata": {},
   "outputs": [
    {
     "data": {
      "text/plain": [
       "KNeighborsRegressor(algorithm='auto', leaf_size=30, metric='minkowski',\n",
       "          metric_params=None, n_jobs=-1, n_neighbors=4, p=2,\n",
       "          weights='uniform')"
      ]
     },
     "execution_count": 19,
     "metadata": {},
     "output_type": "execute_result"
    }
   ],
   "source": [
    "knn.fit(X_train,Y_train)"
   ]
  },
  {
   "cell_type": "code",
   "execution_count": 20,
   "metadata": {},
   "outputs": [
    {
     "data": {
      "text/plain": [
       "0.9303104235880398"
      ]
     },
     "execution_count": 20,
     "metadata": {},
     "output_type": "execute_result"
    }
   ],
   "source": [
    "knn.score( X_test, Y_test )"
   ]
  },
  {
   "cell_type": "markdown",
   "metadata": {},
   "source": [
    "Если изменить размер у train и test на 93% и 7%, качество предсказаний резко увеличится на 4% - до 97-98%."
   ]
  },
  {
   "cell_type": "raw",
   "metadata": {},
   "source": [
    "for i in range(9000,9400):\n",
    "    for j in [4]:\n",
    "        for k in [2]:\n",
    "            split = int( len( X_digits ) * 0.0001*i)\n",
    "            X_train = X_digits[:split]\n",
    "            Y_train = Y_digits[:split]\n",
    "            X_test = X_digits[split:]\n",
    "            Y_test = Y_digits[split:]\n",
    "            knn = KNeighborsRegressor( n_neighbors = j, n_jobs= -1, p=k)\n",
    "            knn.fit(X_train,Y_train)\n",
    "            if knn.score( X_test, Y_test ) > 0.978:\n",
    "                print(knn.score( X_test, Y_test ),i,j,k)"
   ]
  },
  {
   "cell_type": "markdown",
   "metadata": {},
   "source": [
    "При обнулении двух самых светлых оттенков получим прирост точности на 1%:"
   ]
  },
  {
   "cell_type": "code",
   "execution_count": 21,
   "metadata": {
    "scrolled": true
   },
   "outputs": [
    {
     "data": {
      "text/plain": [
       "0.941125069213732"
      ]
     },
     "execution_count": 21,
     "metadata": {},
     "output_type": "execute_result"
    }
   ],
   "source": [
    "import numpy as np\n",
    "np.putmask(digits.data, digits.data == 1, 0)\n",
    "np.putmask(digits.data, digits.data == 2, 0)\n",
    "X_digits = digits.data\n",
    "Y_digits = digits.target\n",
    "split = int( len( X_digits ) * .9 )\n",
    "X_train = X_digits[:split]\n",
    "Y_train = Y_digits[:split]\n",
    "X_test = X_digits[split:]\n",
    "Y_test = Y_digits[split:]\n",
    "knn.fit(X_train,Y_train)\n",
    "knn.score( X_test, Y_test )"
   ]
  }
 ],
 "metadata": {
  "kernelspec": {
   "display_name": "Python 3",
   "language": "python",
   "name": "python3"
  },
  "language_info": {
   "codemirror_mode": {
    "name": "ipython",
    "version": 3
   },
   "file_extension": ".py",
   "mimetype": "text/x-python",
   "name": "python",
   "nbconvert_exporter": "python",
   "pygments_lexer": "ipython3",
   "version": "3.6.6"
  }
 },
 "nbformat": 4,
 "nbformat_minor": 2
}
