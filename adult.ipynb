{
 "cells": [
  {
   "cell_type": "code",
   "execution_count": 1,
   "metadata": {},
   "outputs": [],
   "source": [
    "import pandas as pd\n",
    "from sklearn.linear_model import LogisticRegression\n",
    "from sklearn.model_selection import train_test_split"
   ]
  },
  {
   "cell_type": "code",
   "execution_count": 2,
   "metadata": {},
   "outputs": [
    {
     "data": {
      "text/html": [
       "<div>\n",
       "<style scoped>\n",
       "    .dataframe tbody tr th:only-of-type {\n",
       "        vertical-align: middle;\n",
       "    }\n",
       "\n",
       "    .dataframe tbody tr th {\n",
       "        vertical-align: top;\n",
       "    }\n",
       "\n",
       "    .dataframe thead th {\n",
       "        text-align: right;\n",
       "    }\n",
       "</style>\n",
       "<table border=\"1\" class=\"dataframe\">\n",
       "  <thead>\n",
       "    <tr style=\"text-align: right;\">\n",
       "      <th></th>\n",
       "      <th>age</th>\n",
       "      <th>workclass</th>\n",
       "      <th>fnlwgt</th>\n",
       "      <th>education</th>\n",
       "      <th>educational-num</th>\n",
       "      <th>marital-status</th>\n",
       "      <th>occupation</th>\n",
       "      <th>relationship</th>\n",
       "      <th>race</th>\n",
       "      <th>gender</th>\n",
       "      <th>capital-gain</th>\n",
       "      <th>capital-loss</th>\n",
       "      <th>hours-per-week</th>\n",
       "      <th>native-country</th>\n",
       "      <th>income</th>\n",
       "    </tr>\n",
       "  </thead>\n",
       "  <tbody>\n",
       "    <tr>\n",
       "      <th>48837</th>\n",
       "      <td>27</td>\n",
       "      <td>Private</td>\n",
       "      <td>257302</td>\n",
       "      <td>Assoc-acdm</td>\n",
       "      <td>12</td>\n",
       "      <td>Married-civ-spouse</td>\n",
       "      <td>Tech-support</td>\n",
       "      <td>Wife</td>\n",
       "      <td>White</td>\n",
       "      <td>Female</td>\n",
       "      <td>0</td>\n",
       "      <td>0</td>\n",
       "      <td>38</td>\n",
       "      <td>United-States</td>\n",
       "      <td>&lt;=50K</td>\n",
       "    </tr>\n",
       "    <tr>\n",
       "      <th>48838</th>\n",
       "      <td>40</td>\n",
       "      <td>Private</td>\n",
       "      <td>154374</td>\n",
       "      <td>HS-grad</td>\n",
       "      <td>9</td>\n",
       "      <td>Married-civ-spouse</td>\n",
       "      <td>Machine-op-inspct</td>\n",
       "      <td>Husband</td>\n",
       "      <td>White</td>\n",
       "      <td>Male</td>\n",
       "      <td>0</td>\n",
       "      <td>0</td>\n",
       "      <td>40</td>\n",
       "      <td>United-States</td>\n",
       "      <td>&gt;50K</td>\n",
       "    </tr>\n",
       "    <tr>\n",
       "      <th>48839</th>\n",
       "      <td>58</td>\n",
       "      <td>Private</td>\n",
       "      <td>151910</td>\n",
       "      <td>HS-grad</td>\n",
       "      <td>9</td>\n",
       "      <td>Widowed</td>\n",
       "      <td>Adm-clerical</td>\n",
       "      <td>Unmarried</td>\n",
       "      <td>White</td>\n",
       "      <td>Female</td>\n",
       "      <td>0</td>\n",
       "      <td>0</td>\n",
       "      <td>40</td>\n",
       "      <td>United-States</td>\n",
       "      <td>&lt;=50K</td>\n",
       "    </tr>\n",
       "    <tr>\n",
       "      <th>48840</th>\n",
       "      <td>22</td>\n",
       "      <td>Private</td>\n",
       "      <td>201490</td>\n",
       "      <td>HS-grad</td>\n",
       "      <td>9</td>\n",
       "      <td>Never-married</td>\n",
       "      <td>Adm-clerical</td>\n",
       "      <td>Own-child</td>\n",
       "      <td>White</td>\n",
       "      <td>Male</td>\n",
       "      <td>0</td>\n",
       "      <td>0</td>\n",
       "      <td>20</td>\n",
       "      <td>United-States</td>\n",
       "      <td>&lt;=50K</td>\n",
       "    </tr>\n",
       "    <tr>\n",
       "      <th>48841</th>\n",
       "      <td>52</td>\n",
       "      <td>Self-emp-inc</td>\n",
       "      <td>287927</td>\n",
       "      <td>HS-grad</td>\n",
       "      <td>9</td>\n",
       "      <td>Married-civ-spouse</td>\n",
       "      <td>Exec-managerial</td>\n",
       "      <td>Wife</td>\n",
       "      <td>White</td>\n",
       "      <td>Female</td>\n",
       "      <td>15024</td>\n",
       "      <td>0</td>\n",
       "      <td>40</td>\n",
       "      <td>United-States</td>\n",
       "      <td>&gt;50K</td>\n",
       "    </tr>\n",
       "  </tbody>\n",
       "</table>\n",
       "</div>"
      ],
      "text/plain": [
       "       age     workclass  fnlwgt   education  educational-num  \\\n",
       "48837   27       Private  257302  Assoc-acdm               12   \n",
       "48838   40       Private  154374     HS-grad                9   \n",
       "48839   58       Private  151910     HS-grad                9   \n",
       "48840   22       Private  201490     HS-grad                9   \n",
       "48841   52  Self-emp-inc  287927     HS-grad                9   \n",
       "\n",
       "           marital-status         occupation relationship   race  gender  \\\n",
       "48837  Married-civ-spouse       Tech-support         Wife  White  Female   \n",
       "48838  Married-civ-spouse  Machine-op-inspct      Husband  White    Male   \n",
       "48839             Widowed       Adm-clerical    Unmarried  White  Female   \n",
       "48840       Never-married       Adm-clerical    Own-child  White    Male   \n",
       "48841  Married-civ-spouse    Exec-managerial         Wife  White  Female   \n",
       "\n",
       "       capital-gain  capital-loss  hours-per-week native-country income  \n",
       "48837             0             0              38  United-States  <=50K  \n",
       "48838             0             0              40  United-States   >50K  \n",
       "48839             0             0              40  United-States  <=50K  \n",
       "48840             0             0              20  United-States  <=50K  \n",
       "48841         15024             0              40  United-States   >50K  "
      ]
     },
     "execution_count": 2,
     "metadata": {},
     "output_type": "execute_result"
    }
   ],
   "source": [
    "data = pd.read_csv('adult.csv')\n",
    "data.tail()"
   ]
  },
  {
   "cell_type": "code",
   "execution_count": 3,
   "metadata": {
    "scrolled": false
   },
   "outputs": [
    {
     "name": "stdout",
     "output_type": "stream",
     "text": [
      "<class 'pandas.core.frame.DataFrame'>\n",
      "RangeIndex: 48842 entries, 0 to 48841\n",
      "Data columns (total 15 columns):\n",
      "age                48842 non-null int64\n",
      "workclass          48842 non-null object\n",
      "fnlwgt             48842 non-null int64\n",
      "education          48842 non-null object\n",
      "educational-num    48842 non-null int64\n",
      "marital-status     48842 non-null object\n",
      "occupation         48842 non-null object\n",
      "relationship       48842 non-null object\n",
      "race               48842 non-null object\n",
      "gender             48842 non-null object\n",
      "capital-gain       48842 non-null int64\n",
      "capital-loss       48842 non-null int64\n",
      "hours-per-week     48842 non-null int64\n",
      "native-country     48842 non-null object\n",
      "income             48842 non-null object\n",
      "dtypes: int64(6), object(9)\n",
      "memory usage: 5.6+ MB\n"
     ]
    }
   ],
   "source": [
    "data.info()"
   ]
  },
  {
   "cell_type": "markdown",
   "metadata": {},
   "source": [
    "**Заменим значения в бинарном признаке на 1 и 0**"
   ]
  },
  {
   "cell_type": "code",
   "execution_count": 4,
   "metadata": {},
   "outputs": [],
   "source": [
    "data['income']=data['income'].map({'>50K':1, '<=50K':0})"
   ]
  },
  {
   "cell_type": "markdown",
   "metadata": {},
   "source": [
    "**Сгенерим новые признаки на основе категориальных с помощью get_dummies**"
   ]
  },
  {
   "cell_type": "code",
   "execution_count": 5,
   "metadata": {},
   "outputs": [],
   "source": [
    "cols = [c for c in data.columns if data[c].dtype == object]"
   ]
  },
  {
   "cell_type": "code",
   "execution_count": 6,
   "metadata": {},
   "outputs": [
    {
     "data": {
      "text/plain": [
       "['workclass',\n",
       " 'education',\n",
       " 'marital-status',\n",
       " 'occupation',\n",
       " 'relationship',\n",
       " 'race',\n",
       " 'gender',\n",
       " 'native-country']"
      ]
     },
     "execution_count": 6,
     "metadata": {},
     "output_type": "execute_result"
    }
   ],
   "source": [
    "cols"
   ]
  },
  {
   "cell_type": "code",
   "execution_count": 7,
   "metadata": {},
   "outputs": [],
   "source": [
    "data = pd.get_dummies(data, columns = cols)"
   ]
  },
  {
   "cell_type": "markdown",
   "metadata": {},
   "source": [
    "**Разделим наш датасет для обучения**"
   ]
  },
  {
   "cell_type": "code",
   "execution_count": 8,
   "metadata": {},
   "outputs": [],
   "source": [
    "X = data\n",
    "Y = X['income']\n",
    "del X['income']"
   ]
  },
  {
   "cell_type": "code",
   "execution_count": 9,
   "metadata": {
    "scrolled": false
   },
   "outputs": [
    {
     "data": {
      "text/html": [
       "<div>\n",
       "<style scoped>\n",
       "    .dataframe tbody tr th:only-of-type {\n",
       "        vertical-align: middle;\n",
       "    }\n",
       "\n",
       "    .dataframe tbody tr th {\n",
       "        vertical-align: top;\n",
       "    }\n",
       "\n",
       "    .dataframe thead th {\n",
       "        text-align: right;\n",
       "    }\n",
       "</style>\n",
       "<table border=\"1\" class=\"dataframe\">\n",
       "  <thead>\n",
       "    <tr style=\"text-align: right;\">\n",
       "      <th></th>\n",
       "      <th>age</th>\n",
       "      <th>fnlwgt</th>\n",
       "      <th>educational-num</th>\n",
       "      <th>capital-gain</th>\n",
       "      <th>capital-loss</th>\n",
       "      <th>hours-per-week</th>\n",
       "      <th>workclass_?</th>\n",
       "      <th>workclass_Federal-gov</th>\n",
       "      <th>workclass_Local-gov</th>\n",
       "      <th>workclass_Never-worked</th>\n",
       "      <th>...</th>\n",
       "      <th>native-country_Portugal</th>\n",
       "      <th>native-country_Puerto-Rico</th>\n",
       "      <th>native-country_Scotland</th>\n",
       "      <th>native-country_South</th>\n",
       "      <th>native-country_Taiwan</th>\n",
       "      <th>native-country_Thailand</th>\n",
       "      <th>native-country_Trinadad&amp;Tobago</th>\n",
       "      <th>native-country_United-States</th>\n",
       "      <th>native-country_Vietnam</th>\n",
       "      <th>native-country_Yugoslavia</th>\n",
       "    </tr>\n",
       "  </thead>\n",
       "  <tbody>\n",
       "    <tr>\n",
       "      <th>0</th>\n",
       "      <td>25</td>\n",
       "      <td>226802</td>\n",
       "      <td>7</td>\n",
       "      <td>0</td>\n",
       "      <td>0</td>\n",
       "      <td>40</td>\n",
       "      <td>0</td>\n",
       "      <td>0</td>\n",
       "      <td>0</td>\n",
       "      <td>0</td>\n",
       "      <td>...</td>\n",
       "      <td>0</td>\n",
       "      <td>0</td>\n",
       "      <td>0</td>\n",
       "      <td>0</td>\n",
       "      <td>0</td>\n",
       "      <td>0</td>\n",
       "      <td>0</td>\n",
       "      <td>1</td>\n",
       "      <td>0</td>\n",
       "      <td>0</td>\n",
       "    </tr>\n",
       "    <tr>\n",
       "      <th>1</th>\n",
       "      <td>38</td>\n",
       "      <td>89814</td>\n",
       "      <td>9</td>\n",
       "      <td>0</td>\n",
       "      <td>0</td>\n",
       "      <td>50</td>\n",
       "      <td>0</td>\n",
       "      <td>0</td>\n",
       "      <td>0</td>\n",
       "      <td>0</td>\n",
       "      <td>...</td>\n",
       "      <td>0</td>\n",
       "      <td>0</td>\n",
       "      <td>0</td>\n",
       "      <td>0</td>\n",
       "      <td>0</td>\n",
       "      <td>0</td>\n",
       "      <td>0</td>\n",
       "      <td>1</td>\n",
       "      <td>0</td>\n",
       "      <td>0</td>\n",
       "    </tr>\n",
       "    <tr>\n",
       "      <th>2</th>\n",
       "      <td>28</td>\n",
       "      <td>336951</td>\n",
       "      <td>12</td>\n",
       "      <td>0</td>\n",
       "      <td>0</td>\n",
       "      <td>40</td>\n",
       "      <td>0</td>\n",
       "      <td>0</td>\n",
       "      <td>1</td>\n",
       "      <td>0</td>\n",
       "      <td>...</td>\n",
       "      <td>0</td>\n",
       "      <td>0</td>\n",
       "      <td>0</td>\n",
       "      <td>0</td>\n",
       "      <td>0</td>\n",
       "      <td>0</td>\n",
       "      <td>0</td>\n",
       "      <td>1</td>\n",
       "      <td>0</td>\n",
       "      <td>0</td>\n",
       "    </tr>\n",
       "  </tbody>\n",
       "</table>\n",
       "<p>3 rows × 108 columns</p>\n",
       "</div>"
      ],
      "text/plain": [
       "   age  fnlwgt  educational-num  capital-gain  capital-loss  hours-per-week  \\\n",
       "0   25  226802                7             0             0              40   \n",
       "1   38   89814                9             0             0              50   \n",
       "2   28  336951               12             0             0              40   \n",
       "\n",
       "   workclass_?  workclass_Federal-gov  workclass_Local-gov  \\\n",
       "0            0                      0                    0   \n",
       "1            0                      0                    0   \n",
       "2            0                      0                    1   \n",
       "\n",
       "   workclass_Never-worked            ...              native-country_Portugal  \\\n",
       "0                       0            ...                                    0   \n",
       "1                       0            ...                                    0   \n",
       "2                       0            ...                                    0   \n",
       "\n",
       "   native-country_Puerto-Rico  native-country_Scotland  native-country_South  \\\n",
       "0                           0                        0                     0   \n",
       "1                           0                        0                     0   \n",
       "2                           0                        0                     0   \n",
       "\n",
       "   native-country_Taiwan  native-country_Thailand  \\\n",
       "0                      0                        0   \n",
       "1                      0                        0   \n",
       "2                      0                        0   \n",
       "\n",
       "   native-country_Trinadad&Tobago  native-country_United-States  \\\n",
       "0                               0                             1   \n",
       "1                               0                             1   \n",
       "2                               0                             1   \n",
       "\n",
       "   native-country_Vietnam  native-country_Yugoslavia  \n",
       "0                       0                          0  \n",
       "1                       0                          0  \n",
       "2                       0                          0  \n",
       "\n",
       "[3 rows x 108 columns]"
      ]
     },
     "execution_count": 9,
     "metadata": {},
     "output_type": "execute_result"
    }
   ],
   "source": [
    "X.head(3)"
   ]
  },
  {
   "cell_type": "markdown",
   "metadata": {},
   "source": [
    "**Обучим модель на полученных данных**"
   ]
  },
  {
   "cell_type": "code",
   "execution_count": 10,
   "metadata": {},
   "outputs": [],
   "source": [
    "X_train, X_test, Y_train, Y_test = train_test_split(X, Y, test_size = 0.3, random_state = 24815)"
   ]
  },
  {
   "cell_type": "code",
   "execution_count": 11,
   "metadata": {},
   "outputs": [],
   "source": [
    "model = LogisticRegression()"
   ]
  },
  {
   "cell_type": "code",
   "execution_count": 12,
   "metadata": {},
   "outputs": [
    {
     "name": "stderr",
     "output_type": "stream",
     "text": [
      "C:\\Users\\Aleksandr\\Anaconda3\\lib\\site-packages\\sklearn\\linear_model\\logistic.py:432: FutureWarning: Default solver will be changed to 'lbfgs' in 0.22. Specify a solver to silence this warning.\n",
      "  FutureWarning)\n"
     ]
    },
    {
     "data": {
      "text/plain": [
       "LogisticRegression(C=1.0, class_weight=None, dual=False, fit_intercept=True,\n",
       "          intercept_scaling=1, max_iter=100, multi_class='warn',\n",
       "          n_jobs=None, penalty='l2', random_state=None, solver='warn',\n",
       "          tol=0.0001, verbose=0, warm_start=False)"
      ]
     },
     "execution_count": 12,
     "metadata": {},
     "output_type": "execute_result"
    }
   ],
   "source": [
    "model.fit(X_train,Y_train)"
   ]
  },
  {
   "cell_type": "code",
   "execution_count": 13,
   "metadata": {},
   "outputs": [
    {
     "data": {
      "text/plain": [
       "0.801132873814236"
      ]
     },
     "execution_count": 13,
     "metadata": {},
     "output_type": "execute_result"
    }
   ],
   "source": [
    "model.score(X_test, Y_test)"
   ]
  },
  {
   "cell_type": "markdown",
   "metadata": {},
   "source": [
    "**Построим Precision-Recall**"
   ]
  },
  {
   "cell_type": "code",
   "execution_count": 14,
   "metadata": {},
   "outputs": [],
   "source": [
    "# метод для построения графика precision-recall\n",
    "from sklearn.metrics import precision_recall_curve"
   ]
  },
  {
   "cell_type": "code",
   "execution_count": 15,
   "metadata": {},
   "outputs": [],
   "source": [
    "predictions = model.predict_proba( X_test )"
   ]
  },
  {
   "cell_type": "code",
   "execution_count": 16,
   "metadata": {},
   "outputs": [],
   "source": [
    "pr, re_, thres = precision_recall_curve( Y_test, predictions[:, 1] )"
   ]
  },
  {
   "cell_type": "code",
   "execution_count": 17,
   "metadata": {},
   "outputs": [
    {
     "name": "stdout",
     "output_type": "stream",
     "text": [
      "Populating the interactive namespace from numpy and matplotlib\n"
     ]
    }
   ],
   "source": [
    "%pylab inline"
   ]
  },
  {
   "cell_type": "code",
   "execution_count": 18,
   "metadata": {
    "scrolled": true
   },
   "outputs": [
    {
     "data": {
      "text/plain": [
       "[<matplotlib.lines.Line2D at 0x21ff38e8e10>]"
      ]
     },
     "execution_count": 18,
     "metadata": {},
     "output_type": "execute_result"
    },
    {
     "data": {
      "image/png": "[encoded data removed]",
      "text/plain": [
       "<Figure size 432x288 with 1 Axes>"
      ]
     },
     "metadata": {
      "needs_background": "light"
     },
     "output_type": "display_data"
    }
   ],
   "source": [
    "plt.plot( re_, pr )"
   ]
  },
  {
   "cell_type": "markdown",
   "metadata": {},
   "source": [
    "**Посчитаем площадь под кривой**"
   ]
  },
  {
   "cell_type": "code",
   "execution_count": 19,
   "metadata": {
    "scrolled": true
   },
   "outputs": [
    {
     "data": {
      "text/plain": [
       "0.453743930985648"
      ]
     },
     "execution_count": 19,
     "metadata": {},
     "output_type": "execute_result"
    }
   ],
   "source": [
    "from sklearn.metrics import average_precision_score\n",
    "\n",
    "average_precision_score( Y_test, predictions[:, 1] )"
   ]
  },
  {
   "cell_type": "markdown",
   "metadata": {},
   "source": [
    "**Посчитаем ROC-кривую (Receiver Operating Characteristic)**"
   ]
  },
  {
   "cell_type": "code",
   "execution_count": 21,
   "metadata": {},
   "outputs": [
    {
     "data": {
      "text/plain": [
       "[<matplotlib.lines.Line2D at 0x21ff39ee860>]"
      ]
     },
     "execution_count": 21,
     "metadata": {},
     "output_type": "execute_result"
    },
    {
     "data": {
      "image/png": "[encoded data removed]",
      "text/plain": [
       "<Figure size 432x288 with 1 Axes>"
      ]
     },
     "metadata": {
      "needs_background": "light"
     },
     "output_type": "display_data"
    }
   ],
   "source": [
    "from sklearn.metrics import roc_curve\n",
    "\n",
    "# получаем значения false и true positive rate для различных значений порога\n",
    "\n",
    "fpr, tpr, thres = roc_curve( Y_test, predictions[:, 1] )\n",
    "plt.plot( fpr, tpr )"
   ]
  },
  {
   "cell_type": "markdown",
   "metadata": {},
   "source": [
    "**Построим еще пару моделей и сравним их между собой**"
   ]
  },
  {
   "cell_type": "code",
   "execution_count": 22,
   "metadata": {
    "scrolled": true
   },
   "outputs": [
    {
     "data": {
      "image/png": "[encoded data removed]",
      "text/plain": [
       "<Figure size 432x288 with 1 Axes>"
      ]
     },
     "metadata": {
      "needs_background": "light"
     },
     "output_type": "display_data"
    }
   ],
   "source": [
    "#Выберем самые информативные признаки для новой модели (отберём топ 5)\n",
    "feature_importance = abs(model.coef_[0])[:10]\n",
    "feature_importance = 10.0 * (feature_importance / feature_importance.max())\n",
    "sorted_idx = np.argsort(feature_importance)\n",
    "pos = np.arange(sorted_idx.shape[0]) + .5\n",
    "\n",
    "featfig = plt.figure()\n",
    "featax = featfig.add_subplot(1, 1, 1)\n",
    "featax.barh(pos, feature_importance[sorted_idx], align='center')\n",
    "featax.set_yticks(pos)\n",
    "featax.set_yticklabels(np.array(X.columns)[sorted_idx], fontsize=14)\n",
    "featax.set_xlabel('Важность признаков')\n",
    "\n",
    "plt.tight_layout()   \n",
    "plt.show()"
   ]
  },
  {
   "cell_type": "code",
   "execution_count": 24,
   "metadata": {},
   "outputs": [
    {
     "data": {
      "text/html": [
       "<div>\n",
       "<style scoped>\n",
       "    .dataframe tbody tr th:only-of-type {\n",
       "        vertical-align: middle;\n",
       "    }\n",
       "\n",
       "    .dataframe tbody tr th {\n",
       "        vertical-align: top;\n",
       "    }\n",
       "\n",
       "    .dataframe thead th {\n",
       "        text-align: right;\n",
       "    }\n",
       "</style>\n",
       "<table border=\"1\" class=\"dataframe\">\n",
       "  <thead>\n",
       "    <tr style=\"text-align: right;\">\n",
       "      <th></th>\n",
       "      <th>capital-gain</th>\n",
       "      <th>hours-per-week</th>\n",
       "      <th>age</th>\n",
       "      <th>capital-loss</th>\n",
       "      <th>workclass_?</th>\n",
       "    </tr>\n",
       "  </thead>\n",
       "  <tbody>\n",
       "    <tr>\n",
       "      <th>0</th>\n",
       "      <td>0</td>\n",
       "      <td>40</td>\n",
       "      <td>25</td>\n",
       "      <td>0</td>\n",
       "      <td>0</td>\n",
       "    </tr>\n",
       "    <tr>\n",
       "      <th>1</th>\n",
       "      <td>0</td>\n",
       "      <td>50</td>\n",
       "      <td>38</td>\n",
       "      <td>0</td>\n",
       "      <td>0</td>\n",
       "    </tr>\n",
       "    <tr>\n",
       "      <th>2</th>\n",
       "      <td>0</td>\n",
       "      <td>40</td>\n",
       "      <td>28</td>\n",
       "      <td>0</td>\n",
       "      <td>0</td>\n",
       "    </tr>\n",
       "    <tr>\n",
       "      <th>3</th>\n",
       "      <td>7688</td>\n",
       "      <td>40</td>\n",
       "      <td>44</td>\n",
       "      <td>0</td>\n",
       "      <td>0</td>\n",
       "    </tr>\n",
       "    <tr>\n",
       "      <th>4</th>\n",
       "      <td>0</td>\n",
       "      <td>30</td>\n",
       "      <td>18</td>\n",
       "      <td>0</td>\n",
       "      <td>1</td>\n",
       "    </tr>\n",
       "  </tbody>\n",
       "</table>\n",
       "</div>"
      ],
      "text/plain": [
       "   capital-gain  hours-per-week  age  capital-loss  workclass_?\n",
       "0             0              40   25             0            0\n",
       "1             0              50   38             0            0\n",
       "2             0              40   28             0            0\n",
       "3          7688              40   44             0            0\n",
       "4             0              30   18             0            1"
      ]
     },
     "execution_count": 24,
     "metadata": {},
     "output_type": "execute_result"
    }
   ],
   "source": [
    "Xshort = X.loc[ :, ['capital-gain', 'hours-per-week', 'age', 'capital-loss', 'workclass_?'] ]\n",
    "Xshort.head()"
   ]
  },
  {
   "cell_type": "code",
   "execution_count": 25,
   "metadata": {},
   "outputs": [],
   "source": [
    "model2 = LogisticRegression()"
   ]
  },
  {
   "cell_type": "code",
   "execution_count": 26,
   "metadata": {},
   "outputs": [],
   "source": [
    "X_train_short, X_test_short, y_train_short, y_test_short = train_test_split( Xshort, Y, test_size = 0.3, random_state = 0 )"
   ]
  },
  {
   "cell_type": "code",
   "execution_count": 28,
   "metadata": {},
   "outputs": [
    {
     "name": "stderr",
     "output_type": "stream",
     "text": [
      "C:\\Users\\Aleksandr\\Anaconda3\\lib\\site-packages\\sklearn\\linear_model\\logistic.py:432: FutureWarning: Default solver will be changed to 'lbfgs' in 0.22. Specify a solver to silence this warning.\n",
      "  FutureWarning)\n"
     ]
    },
    {
     "data": {
      "text/plain": [
       "LogisticRegression(C=1.0, class_weight=None, dual=False, fit_intercept=True,\n",
       "          intercept_scaling=1, max_iter=100, multi_class='warn',\n",
       "          n_jobs=None, penalty='l2', random_state=None, solver='warn',\n",
       "          tol=0.0001, verbose=0, warm_start=False)"
      ]
     },
     "execution_count": 28,
     "metadata": {},
     "output_type": "execute_result"
    }
   ],
   "source": [
    "model2.fit( X_train_short, y_train_short )"
   ]
  },
  {
   "cell_type": "code",
   "execution_count": 29,
   "metadata": {},
   "outputs": [],
   "source": [
    "predictions2 = model2.predict_proba( X_test_short )"
   ]
  },
  {
   "cell_type": "code",
   "execution_count": 30,
   "metadata": {},
   "outputs": [],
   "source": [
    "fpr2, tpr2, thres2 = roc_curve( y_test_short, predictions2[:, 1] )"
   ]
  },
  {
   "cell_type": "code",
   "execution_count": 31,
   "metadata": {},
   "outputs": [
    {
     "data": {
      "image/png": "[encoded data removed]",
      "text/plain": [
       "<Figure size 432x288 with 1 Axes>"
      ]
     },
     "metadata": {
      "needs_background": "light"
     },
     "output_type": "display_data"
    }
   ],
   "source": [
    "plt.plot( fpr, tpr, label = 'All columns model' )\n",
    "plt.plot( fpr2, tpr2, label = 'Top 5 features model' )\n",
    "\n",
    "plt.xlabel('False Positive Rate')\n",
    "plt.ylabel('True Positive Rate')\n",
    "\n",
    "plt.legend( loc = 0 )\n",
    "plt.show()"
   ]
  },
  {
   "cell_type": "markdown",
   "metadata": {},
   "source": [
    "**Модель на 5 признаках ведёт себя по-другому**"
   ]
  },
  {
   "cell_type": "markdown",
   "metadata": {},
   "source": [
    "**Применим LightGBM и найдём одну из максимальных площадей по ROC-кривой**"
   ]
  },
  {
   "cell_type": "code",
   "execution_count": 32,
   "metadata": {},
   "outputs": [],
   "source": [
    "from sklearn.model_selection import KFold, StratifiedKFold"
   ]
  },
  {
   "cell_type": "code",
   "execution_count": 33,
   "metadata": {},
   "outputs": [],
   "source": [
    "import lightgbm as lgb\n",
    "from sklearn.model_selection import GridSearchCV\n",
    "from sklearn.metrics import auc, accuracy_score, roc_auc_score\n",
    "from sklearn.metrics import roc_curve"
   ]
  },
  {
   "cell_type": "code",
   "execution_count": 35,
   "metadata": {},
   "outputs": [],
   "source": [
    "x_train, x_test, y_train, y_test = train_test_split( X, Y, test_size = 0.3, random_state = 0 )"
   ]
  },
  {
   "cell_type": "code",
   "execution_count": 40,
   "metadata": {},
   "outputs": [
    {
     "name": "stderr",
     "output_type": "stream",
     "text": [
      "C:\\Users\\Aleksandr\\Anaconda3\\lib\\site-packages\\sklearn\\model_selection\\_split.py:1943: FutureWarning: You should specify a value for 'cv' instead of relying on the default value. The default value will change from 3 to 5 in version 0.22.\n",
      "  warnings.warn(CV_WARNING, FutureWarning)\n"
     ]
    },
    {
     "name": "stdout",
     "output_type": "stream",
     "text": [
      "[1]\tvalid_0's binary_logloss: 0.497038\tvalid_0's auc: 0.90265\n",
      "Training until validation scores don't improve for 5 rounds.\n",
      "[2]\tvalid_0's binary_logloss: 0.459886\tvalid_0's auc: 0.905325\n",
      "[3]\tvalid_0's binary_logloss: 0.431703\tvalid_0's auc: 0.907453\n",
      "[4]\tvalid_0's binary_logloss: 0.409907\tvalid_0's auc: 0.907872\n",
      "[5]\tvalid_0's binary_logloss: 0.392275\tvalid_0's auc: 0.908656\n",
      "[6]\tvalid_0's binary_logloss: 0.376752\tvalid_0's auc: 0.911219\n",
      "[7]\tvalid_0's binary_logloss: 0.364846\tvalid_0's auc: 0.911475\n",
      "[8]\tvalid_0's binary_logloss: 0.354698\tvalid_0's auc: 0.912157\n",
      "[9]\tvalid_0's binary_logloss: 0.345591\tvalid_0's auc: 0.91308\n",
      "[10]\tvalid_0's binary_logloss: 0.338411\tvalid_0's auc: 0.913292\n",
      "[11]\tvalid_0's binary_logloss: 0.332213\tvalid_0's auc: 0.913661\n",
      "[12]\tvalid_0's binary_logloss: 0.326186\tvalid_0's auc: 0.914895\n",
      "[13]\tvalid_0's binary_logloss: 0.321748\tvalid_0's auc: 0.915801\n",
      "[14]\tvalid_0's binary_logloss: 0.317063\tvalid_0's auc: 0.916604\n",
      "[15]\tvalid_0's binary_logloss: 0.312999\tvalid_0's auc: 0.917395\n",
      "[16]\tvalid_0's binary_logloss: 0.309462\tvalid_0's auc: 0.918181\n",
      "[17]\tvalid_0's binary_logloss: 0.306424\tvalid_0's auc: 0.918818\n",
      "[18]\tvalid_0's binary_logloss: 0.303681\tvalid_0's auc: 0.919539\n",
      "[19]\tvalid_0's binary_logloss: 0.301377\tvalid_0's auc: 0.920097\n",
      "[20]\tvalid_0's binary_logloss: 0.299108\tvalid_0's auc: 0.920849\n",
      "Did not meet early stopping. Best iteration is:\n",
      "[20]\tvalid_0's binary_logloss: 0.299108\tvalid_0's auc: 0.920849\n",
      "[1]\tvalid_0's binary_logloss: 0.497052\tvalid_0's auc: 0.901528\n",
      "Training until validation scores don't improve for 5 rounds.\n",
      "[2]\tvalid_0's binary_logloss: 0.460315\tvalid_0's auc: 0.903925\n",
      "[3]\tvalid_0's binary_logloss: 0.432048\tvalid_0's auc: 0.906694\n",
      "[4]\tvalid_0's binary_logloss: 0.410014\tvalid_0's auc: 0.907702\n",
      "[5]\tvalid_0's binary_logloss: 0.391953\tvalid_0's auc: 0.908299\n",
      "[6]\tvalid_0's binary_logloss: 0.37751\tvalid_0's auc: 0.908643\n",
      "[7]\tvalid_0's binary_logloss: 0.3644\tvalid_0's auc: 0.91041\n",
      "[8]\tvalid_0's binary_logloss: 0.354372\tvalid_0's auc: 0.912204\n",
      "[9]\tvalid_0's binary_logloss: 0.345279\tvalid_0's auc: 0.913423\n",
      "[10]\tvalid_0's binary_logloss: 0.337565\tvalid_0's auc: 0.914491\n",
      "[11]\tvalid_0's binary_logloss: 0.331205\tvalid_0's auc: 0.915053\n",
      "[12]\tvalid_0's binary_logloss: 0.325856\tvalid_0's auc: 0.915371\n",
      "[13]\tvalid_0's binary_logloss: 0.321283\tvalid_0's auc: 0.915637\n",
      "[14]\tvalid_0's binary_logloss: 0.316902\tvalid_0's auc: 0.916278\n",
      "[15]\tvalid_0's binary_logloss: 0.313263\tvalid_0's auc: 0.916937\n",
      "[16]\tvalid_0's binary_logloss: 0.309852\tvalid_0's auc: 0.91773\n",
      "[17]\tvalid_0's binary_logloss: 0.30676\tvalid_0's auc: 0.918469\n",
      "[18]\tvalid_0's binary_logloss: 0.303786\tvalid_0's auc: 0.91917\n",
      "[19]\tvalid_0's binary_logloss: 0.301759\tvalid_0's auc: 0.919567\n",
      "[20]\tvalid_0's binary_logloss: 0.299925\tvalid_0's auc: 0.919909\n",
      "Did not meet early stopping. Best iteration is:\n",
      "[20]\tvalid_0's binary_logloss: 0.299925\tvalid_0's auc: 0.919909\n",
      "[1]\tvalid_0's binary_logloss: 0.496169\tvalid_0's auc: 0.899088\n",
      "Training until validation scores don't improve for 5 rounds.\n",
      "[2]\tvalid_0's binary_logloss: 0.4589\tvalid_0's auc: 0.901652\n",
      "[3]\tvalid_0's binary_logloss: 0.430311\tvalid_0's auc: 0.908778\n",
      "[4]\tvalid_0's binary_logloss: 0.408641\tvalid_0's auc: 0.908637\n",
      "[5]\tvalid_0's binary_logloss: 0.390328\tvalid_0's auc: 0.910405\n",
      "[6]\tvalid_0's binary_logloss: 0.375727\tvalid_0's auc: 0.910956\n",
      "[7]\tvalid_0's binary_logloss: 0.363538\tvalid_0's auc: 0.911494\n",
      "[8]\tvalid_0's binary_logloss: 0.353391\tvalid_0's auc: 0.912047\n",
      "[9]\tvalid_0's binary_logloss: 0.344493\tvalid_0's auc: 0.912635\n",
      "[10]\tvalid_0's binary_logloss: 0.336455\tvalid_0's auc: 0.9137\n",
      "[11]\tvalid_0's binary_logloss: 0.330574\tvalid_0's auc: 0.914104\n",
      "[12]\tvalid_0's binary_logloss: 0.324898\tvalid_0's auc: 0.915711\n",
      "[13]\tvalid_0's binary_logloss: 0.320077\tvalid_0's auc: 0.916234\n",
      "[14]\tvalid_0's binary_logloss: 0.315735\tvalid_0's auc: 0.916801\n",
      "[15]\tvalid_0's binary_logloss: 0.311878\tvalid_0's auc: 0.917585\n",
      "[16]\tvalid_0's binary_logloss: 0.308615\tvalid_0's auc: 0.917996\n",
      "[17]\tvalid_0's binary_logloss: 0.305104\tvalid_0's auc: 0.918885\n",
      "[18]\tvalid_0's binary_logloss: 0.302036\tvalid_0's auc: 0.919769\n",
      "[19]\tvalid_0's binary_logloss: 0.299899\tvalid_0's auc: 0.920255\n",
      "[20]\tvalid_0's binary_logloss: 0.297765\tvalid_0's auc: 0.920804\n",
      "Did not meet early stopping. Best iteration is:\n",
      "[20]\tvalid_0's binary_logloss: 0.297765\tvalid_0's auc: 0.920804\n",
      "[1]\tvalid_0's binary_logloss: 0.497038\tvalid_0's auc: 0.90265\n",
      "Training until validation scores don't improve for 5 rounds.\n",
      "[2]\tvalid_0's binary_logloss: 0.459886\tvalid_0's auc: 0.905325\n",
      "[3]\tvalid_0's binary_logloss: 0.431703\tvalid_0's auc: 0.907453\n",
      "[4]\tvalid_0's binary_logloss: 0.409907\tvalid_0's auc: 0.907872\n",
      "[5]\tvalid_0's binary_logloss: 0.392275\tvalid_0's auc: 0.908656\n",
      "[6]\tvalid_0's binary_logloss: 0.376752\tvalid_0's auc: 0.911219\n",
      "[7]\tvalid_0's binary_logloss: 0.364846\tvalid_0's auc: 0.911475\n",
      "[8]\tvalid_0's binary_logloss: 0.354698\tvalid_0's auc: 0.912157\n",
      "[9]\tvalid_0's binary_logloss: 0.345591\tvalid_0's auc: 0.91308\n",
      "[10]\tvalid_0's binary_logloss: 0.338411\tvalid_0's auc: 0.913292\n",
      "[11]\tvalid_0's binary_logloss: 0.332213\tvalid_0's auc: 0.913661\n",
      "[12]\tvalid_0's binary_logloss: 0.326186\tvalid_0's auc: 0.914895\n",
      "[13]\tvalid_0's binary_logloss: 0.321748\tvalid_0's auc: 0.915801\n",
      "[14]\tvalid_0's binary_logloss: 0.317063\tvalid_0's auc: 0.916604\n",
      "[15]\tvalid_0's binary_logloss: 0.312999\tvalid_0's auc: 0.917395\n",
      "[16]\tvalid_0's binary_logloss: 0.309462\tvalid_0's auc: 0.918181\n",
      "[17]\tvalid_0's binary_logloss: 0.306424\tvalid_0's auc: 0.918818\n",
      "[18]\tvalid_0's binary_logloss: 0.303681\tvalid_0's auc: 0.919539\n",
      "[19]\tvalid_0's binary_logloss: 0.301377\tvalid_0's auc: 0.920097\n",
      "[20]\tvalid_0's binary_logloss: 0.299108\tvalid_0's auc: 0.920849\n",
      "[21]\tvalid_0's binary_logloss: 0.296944\tvalid_0's auc: 0.921601\n",
      "[22]\tvalid_0's binary_logloss: 0.295517\tvalid_0's auc: 0.921852\n",
      "[23]\tvalid_0's binary_logloss: 0.294036\tvalid_0's auc: 0.922211\n",
      "[24]\tvalid_0's binary_logloss: 0.292911\tvalid_0's auc: 0.92248\n",
      "Did not meet early stopping. Best iteration is:\n",
      "[24]\tvalid_0's binary_logloss: 0.292911\tvalid_0's auc: 0.92248\n",
      "[1]\tvalid_0's binary_logloss: 0.497052\tvalid_0's auc: 0.901528\n",
      "Training until validation scores don't improve for 5 rounds.\n",
      "[2]\tvalid_0's binary_logloss: 0.460315\tvalid_0's auc: 0.903925\n",
      "[3]\tvalid_0's binary_logloss: 0.432048\tvalid_0's auc: 0.906694\n",
      "[4]\tvalid_0's binary_logloss: 0.410014\tvalid_0's auc: 0.907702\n",
      "[5]\tvalid_0's binary_logloss: 0.391953\tvalid_0's auc: 0.908299\n",
      "[6]\tvalid_0's binary_logloss: 0.37751\tvalid_0's auc: 0.908643\n",
      "[7]\tvalid_0's binary_logloss: 0.3644\tvalid_0's auc: 0.91041\n",
      "[8]\tvalid_0's binary_logloss: 0.354372\tvalid_0's auc: 0.912204\n",
      "[9]\tvalid_0's binary_logloss: 0.345279\tvalid_0's auc: 0.913423\n",
      "[10]\tvalid_0's binary_logloss: 0.337565\tvalid_0's auc: 0.914491\n",
      "[11]\tvalid_0's binary_logloss: 0.331205\tvalid_0's auc: 0.915053\n",
      "[12]\tvalid_0's binary_logloss: 0.325856\tvalid_0's auc: 0.915371\n",
      "[13]\tvalid_0's binary_logloss: 0.321283\tvalid_0's auc: 0.915637\n",
      "[14]\tvalid_0's binary_logloss: 0.316902\tvalid_0's auc: 0.916278\n",
      "[15]\tvalid_0's binary_logloss: 0.313263\tvalid_0's auc: 0.916937\n",
      "[16]\tvalid_0's binary_logloss: 0.309852\tvalid_0's auc: 0.91773\n",
      "[17]\tvalid_0's binary_logloss: 0.30676\tvalid_0's auc: 0.918469\n",
      "[18]\tvalid_0's binary_logloss: 0.303786\tvalid_0's auc: 0.91917\n",
      "[19]\tvalid_0's binary_logloss: 0.301759\tvalid_0's auc: 0.919567\n",
      "[20]\tvalid_0's binary_logloss: 0.299925\tvalid_0's auc: 0.919909\n",
      "[21]\tvalid_0's binary_logloss: 0.298287\tvalid_0's auc: 0.920188\n",
      "[22]\tvalid_0's binary_logloss: 0.296144\tvalid_0's auc: 0.920988\n",
      "[23]\tvalid_0's binary_logloss: 0.294849\tvalid_0's auc: 0.921242\n",
      "[24]\tvalid_0's binary_logloss: 0.293413\tvalid_0's auc: 0.921651\n",
      "Did not meet early stopping. Best iteration is:\n",
      "[24]\tvalid_0's binary_logloss: 0.293413\tvalid_0's auc: 0.921651\n",
      "[1]\tvalid_0's binary_logloss: 0.496169\tvalid_0's auc: 0.899088\n",
      "Training until validation scores don't improve for 5 rounds.\n",
      "[2]\tvalid_0's binary_logloss: 0.4589\tvalid_0's auc: 0.901652\n",
      "[3]\tvalid_0's binary_logloss: 0.430311\tvalid_0's auc: 0.908778\n",
      "[4]\tvalid_0's binary_logloss: 0.408641\tvalid_0's auc: 0.908637\n",
      "[5]\tvalid_0's binary_logloss: 0.390328\tvalid_0's auc: 0.910405\n",
      "[6]\tvalid_0's binary_logloss: 0.375727\tvalid_0's auc: 0.910956\n",
      "[7]\tvalid_0's binary_logloss: 0.363538\tvalid_0's auc: 0.911494\n",
      "[8]\tvalid_0's binary_logloss: 0.353391\tvalid_0's auc: 0.912047\n",
      "[9]\tvalid_0's binary_logloss: 0.344493\tvalid_0's auc: 0.912635\n",
      "[10]\tvalid_0's binary_logloss: 0.336455\tvalid_0's auc: 0.9137\n",
      "[11]\tvalid_0's binary_logloss: 0.330574\tvalid_0's auc: 0.914104\n",
      "[12]\tvalid_0's binary_logloss: 0.324898\tvalid_0's auc: 0.915711\n",
      "[13]\tvalid_0's binary_logloss: 0.320077\tvalid_0's auc: 0.916234\n",
      "[14]\tvalid_0's binary_logloss: 0.315735\tvalid_0's auc: 0.916801\n",
      "[15]\tvalid_0's binary_logloss: 0.311878\tvalid_0's auc: 0.917585\n",
      "[16]\tvalid_0's binary_logloss: 0.308615\tvalid_0's auc: 0.917996\n",
      "[17]\tvalid_0's binary_logloss: 0.305104\tvalid_0's auc: 0.918885\n",
      "[18]\tvalid_0's binary_logloss: 0.302036\tvalid_0's auc: 0.919769\n",
      "[19]\tvalid_0's binary_logloss: 0.299899\tvalid_0's auc: 0.920255\n",
      "[20]\tvalid_0's binary_logloss: 0.297765\tvalid_0's auc: 0.920804\n",
      "[21]\tvalid_0's binary_logloss: 0.295977\tvalid_0's auc: 0.921268\n",
      "[22]\tvalid_0's binary_logloss: 0.294616\tvalid_0's auc: 0.921666\n",
      "[23]\tvalid_0's binary_logloss: 0.293465\tvalid_0's auc: 0.921854\n",
      "[24]\tvalid_0's binary_logloss: 0.292038\tvalid_0's auc: 0.922362\n",
      "Did not meet early stopping. Best iteration is:\n",
      "[24]\tvalid_0's binary_logloss: 0.292038\tvalid_0's auc: 0.922362\n"
     ]
    },
    {
     "name": "stdout",
     "output_type": "stream",
     "text": [
      "[1]\tvalid_0's binary_logloss: 0.497038\tvalid_0's auc: 0.90265\n",
      "Training until validation scores don't improve for 5 rounds.\n",
      "[2]\tvalid_0's binary_logloss: 0.459886\tvalid_0's auc: 0.905325\n",
      "[3]\tvalid_0's binary_logloss: 0.431703\tvalid_0's auc: 0.907453\n",
      "[4]\tvalid_0's binary_logloss: 0.409907\tvalid_0's auc: 0.907872\n",
      "[5]\tvalid_0's binary_logloss: 0.392275\tvalid_0's auc: 0.908656\n",
      "[6]\tvalid_0's binary_logloss: 0.376752\tvalid_0's auc: 0.911219\n",
      "[7]\tvalid_0's binary_logloss: 0.364846\tvalid_0's auc: 0.911475\n",
      "[8]\tvalid_0's binary_logloss: 0.354698\tvalid_0's auc: 0.912157\n",
      "[9]\tvalid_0's binary_logloss: 0.345591\tvalid_0's auc: 0.91308\n",
      "[10]\tvalid_0's binary_logloss: 0.338411\tvalid_0's auc: 0.913292\n",
      "[11]\tvalid_0's binary_logloss: 0.332213\tvalid_0's auc: 0.913661\n",
      "[12]\tvalid_0's binary_logloss: 0.326186\tvalid_0's auc: 0.914895\n",
      "[13]\tvalid_0's binary_logloss: 0.321748\tvalid_0's auc: 0.915801\n",
      "[14]\tvalid_0's binary_logloss: 0.317063\tvalid_0's auc: 0.916604\n",
      "[15]\tvalid_0's binary_logloss: 0.312999\tvalid_0's auc: 0.917395\n",
      "[16]\tvalid_0's binary_logloss: 0.309462\tvalid_0's auc: 0.918181\n",
      "[17]\tvalid_0's binary_logloss: 0.306424\tvalid_0's auc: 0.918818\n",
      "[18]\tvalid_0's binary_logloss: 0.303681\tvalid_0's auc: 0.919539\n",
      "[19]\tvalid_0's binary_logloss: 0.301377\tvalid_0's auc: 0.920097\n",
      "[20]\tvalid_0's binary_logloss: 0.299108\tvalid_0's auc: 0.920849\n",
      "[21]\tvalid_0's binary_logloss: 0.296944\tvalid_0's auc: 0.921601\n",
      "[22]\tvalid_0's binary_logloss: 0.295517\tvalid_0's auc: 0.921852\n",
      "[23]\tvalid_0's binary_logloss: 0.294036\tvalid_0's auc: 0.922211\n",
      "[24]\tvalid_0's binary_logloss: 0.292911\tvalid_0's auc: 0.92248\n",
      "[25]\tvalid_0's binary_logloss: 0.291254\tvalid_0's auc: 0.923108\n",
      "[26]\tvalid_0's binary_logloss: 0.290407\tvalid_0's auc: 0.923247\n",
      "[27]\tvalid_0's binary_logloss: 0.289555\tvalid_0's auc: 0.923401\n",
      "[28]\tvalid_0's binary_logloss: 0.288189\tvalid_0's auc: 0.923946\n",
      "Did not meet early stopping. Best iteration is:\n",
      "[28]\tvalid_0's binary_logloss: 0.288189\tvalid_0's auc: 0.923946\n",
      "[1]\tvalid_0's binary_logloss: 0.497052\tvalid_0's auc: 0.901528\n",
      "Training until validation scores don't improve for 5 rounds.\n",
      "[2]\tvalid_0's binary_logloss: 0.460315\tvalid_0's auc: 0.903925\n",
      "[3]\tvalid_0's binary_logloss: 0.432048\tvalid_0's auc: 0.906694\n",
      "[4]\tvalid_0's binary_logloss: 0.410014\tvalid_0's auc: 0.907702\n",
      "[5]\tvalid_0's binary_logloss: 0.391953\tvalid_0's auc: 0.908299\n",
      "[6]\tvalid_0's binary_logloss: 0.37751\tvalid_0's auc: 0.908643\n",
      "[7]\tvalid_0's binary_logloss: 0.3644\tvalid_0's auc: 0.91041\n",
      "[8]\tvalid_0's binary_logloss: 0.354372\tvalid_0's auc: 0.912204\n",
      "[9]\tvalid_0's binary_logloss: 0.345279\tvalid_0's auc: 0.913423\n",
      "[10]\tvalid_0's binary_logloss: 0.337565\tvalid_0's auc: 0.914491\n",
      "[11]\tvalid_0's binary_logloss: 0.331205\tvalid_0's auc: 0.915053\n",
      "[12]\tvalid_0's binary_logloss: 0.325856\tvalid_0's auc: 0.915371\n",
      "[13]\tvalid_0's binary_logloss: 0.321283\tvalid_0's auc: 0.915637\n",
      "[14]\tvalid_0's binary_logloss: 0.316902\tvalid_0's auc: 0.916278\n",
      "[15]\tvalid_0's binary_logloss: 0.313263\tvalid_0's auc: 0.916937\n",
      "[16]\tvalid_0's binary_logloss: 0.309852\tvalid_0's auc: 0.91773\n",
      "[17]\tvalid_0's binary_logloss: 0.30676\tvalid_0's auc: 0.918469\n",
      "[18]\tvalid_0's binary_logloss: 0.303786\tvalid_0's auc: 0.91917\n",
      "[19]\tvalid_0's binary_logloss: 0.301759\tvalid_0's auc: 0.919567\n",
      "[20]\tvalid_0's binary_logloss: 0.299925\tvalid_0's auc: 0.919909\n",
      "[21]\tvalid_0's binary_logloss: 0.298287\tvalid_0's auc: 0.920188\n",
      "[22]\tvalid_0's binary_logloss: 0.296144\tvalid_0's auc: 0.920988\n",
      "[23]\tvalid_0's binary_logloss: 0.294849\tvalid_0's auc: 0.921242\n",
      "[24]\tvalid_0's binary_logloss: 0.293413\tvalid_0's auc: 0.921651\n",
      "[25]\tvalid_0's binary_logloss: 0.291941\tvalid_0's auc: 0.92217\n",
      "[26]\tvalid_0's binary_logloss: 0.291265\tvalid_0's auc: 0.922256\n",
      "[27]\tvalid_0's binary_logloss: 0.290747\tvalid_0's auc: 0.922221\n",
      "[28]\tvalid_0's binary_logloss: 0.289861\tvalid_0's auc: 0.922523\n",
      "Did not meet early stopping. Best iteration is:\n",
      "[28]\tvalid_0's binary_logloss: 0.289861\tvalid_0's auc: 0.922523\n",
      "[1]\tvalid_0's binary_logloss: 0.496169\tvalid_0's auc: 0.899088\n",
      "Training until validation scores don't improve for 5 rounds.\n",
      "[2]\tvalid_0's binary_logloss: 0.4589\tvalid_0's auc: 0.901652\n",
      "[3]\tvalid_0's binary_logloss: 0.430311\tvalid_0's auc: 0.908778\n",
      "[4]\tvalid_0's binary_logloss: 0.408641\tvalid_0's auc: 0.908637\n",
      "[5]\tvalid_0's binary_logloss: 0.390328\tvalid_0's auc: 0.910405\n",
      "[6]\tvalid_0's binary_logloss: 0.375727\tvalid_0's auc: 0.910956\n",
      "[7]\tvalid_0's binary_logloss: 0.363538\tvalid_0's auc: 0.911494\n",
      "[8]\tvalid_0's binary_logloss: 0.353391\tvalid_0's auc: 0.912047\n",
      "[9]\tvalid_0's binary_logloss: 0.344493\tvalid_0's auc: 0.912635\n",
      "[10]\tvalid_0's binary_logloss: 0.336455\tvalid_0's auc: 0.9137\n",
      "[11]\tvalid_0's binary_logloss: 0.330574\tvalid_0's auc: 0.914104\n",
      "[12]\tvalid_0's binary_logloss: 0.324898\tvalid_0's auc: 0.915711\n",
      "[13]\tvalid_0's binary_logloss: 0.320077\tvalid_0's auc: 0.916234\n",
      "[14]\tvalid_0's binary_logloss: 0.315735\tvalid_0's auc: 0.916801\n",
      "[15]\tvalid_0's binary_logloss: 0.311878\tvalid_0's auc: 0.917585\n",
      "[16]\tvalid_0's binary_logloss: 0.308615\tvalid_0's auc: 0.917996\n",
      "[17]\tvalid_0's binary_logloss: 0.305104\tvalid_0's auc: 0.918885\n",
      "[18]\tvalid_0's binary_logloss: 0.302036\tvalid_0's auc: 0.919769\n",
      "[19]\tvalid_0's binary_logloss: 0.299899\tvalid_0's auc: 0.920255\n",
      "[20]\tvalid_0's binary_logloss: 0.297765\tvalid_0's auc: 0.920804\n",
      "[21]\tvalid_0's binary_logloss: 0.295977\tvalid_0's auc: 0.921268\n",
      "[22]\tvalid_0's binary_logloss: 0.294616\tvalid_0's auc: 0.921666\n",
      "[23]\tvalid_0's binary_logloss: 0.293465\tvalid_0's auc: 0.921854\n",
      "[24]\tvalid_0's binary_logloss: 0.292038\tvalid_0's auc: 0.922362\n",
      "[25]\tvalid_0's binary_logloss: 0.290894\tvalid_0's auc: 0.922703\n",
      "[26]\tvalid_0's binary_logloss: 0.289889\tvalid_0's auc: 0.923051\n",
      "[27]\tvalid_0's binary_logloss: 0.289224\tvalid_0's auc: 0.923112\n",
      "[28]\tvalid_0's binary_logloss: 0.288621\tvalid_0's auc: 0.923211\n",
      "Did not meet early stopping. Best iteration is:\n",
      "[28]\tvalid_0's binary_logloss: 0.288621\tvalid_0's auc: 0.923211\n",
      "[1]\tvalid_0's binary_logloss: 0.497038\tvalid_0's auc: 0.90265\n",
      "Training until validation scores don't improve for 5 rounds.\n",
      "[2]\tvalid_0's binary_logloss: 0.459886\tvalid_0's auc: 0.905325\n",
      "[3]\tvalid_0's binary_logloss: 0.431703\tvalid_0's auc: 0.907453\n",
      "[4]\tvalid_0's binary_logloss: 0.409907\tvalid_0's auc: 0.907872\n",
      "[5]\tvalid_0's binary_logloss: 0.392275\tvalid_0's auc: 0.908656\n",
      "[6]\tvalid_0's binary_logloss: 0.376752\tvalid_0's auc: 0.911219\n",
      "[7]\tvalid_0's binary_logloss: 0.364846\tvalid_0's auc: 0.911475\n",
      "[8]\tvalid_0's binary_logloss: 0.354698\tvalid_0's auc: 0.912157\n",
      "[9]\tvalid_0's binary_logloss: 0.345591\tvalid_0's auc: 0.91308\n",
      "[10]\tvalid_0's binary_logloss: 0.338411\tvalid_0's auc: 0.913292\n",
      "[11]\tvalid_0's binary_logloss: 0.332213\tvalid_0's auc: 0.913661\n",
      "[12]\tvalid_0's binary_logloss: 0.326186\tvalid_0's auc: 0.914895\n",
      "[13]\tvalid_0's binary_logloss: 0.321748\tvalid_0's auc: 0.915801\n",
      "[14]\tvalid_0's binary_logloss: 0.317063\tvalid_0's auc: 0.916604\n",
      "[15]\tvalid_0's binary_logloss: 0.312999\tvalid_0's auc: 0.917395\n",
      "[16]\tvalid_0's binary_logloss: 0.309462\tvalid_0's auc: 0.918181\n",
      "[17]\tvalid_0's binary_logloss: 0.306424\tvalid_0's auc: 0.918818\n",
      "[18]\tvalid_0's binary_logloss: 0.303681\tvalid_0's auc: 0.919539\n",
      "[19]\tvalid_0's binary_logloss: 0.301377\tvalid_0's auc: 0.920097\n",
      "[20]\tvalid_0's binary_logloss: 0.299108\tvalid_0's auc: 0.920849\n",
      "[21]\tvalid_0's binary_logloss: 0.296944\tvalid_0's auc: 0.921601\n",
      "[22]\tvalid_0's binary_logloss: 0.295517\tvalid_0's auc: 0.921852\n",
      "[23]\tvalid_0's binary_logloss: 0.294036\tvalid_0's auc: 0.922211\n",
      "[24]\tvalid_0's binary_logloss: 0.292911\tvalid_0's auc: 0.92248\n",
      "[25]\tvalid_0's binary_logloss: 0.291254\tvalid_0's auc: 0.923108\n",
      "[26]\tvalid_0's binary_logloss: 0.290407\tvalid_0's auc: 0.923247\n",
      "[27]\tvalid_0's binary_logloss: 0.289555\tvalid_0's auc: 0.923401\n",
      "[28]\tvalid_0's binary_logloss: 0.288189\tvalid_0's auc: 0.923946\n",
      "[29]\tvalid_0's binary_logloss: 0.287776\tvalid_0's auc: 0.923867\n",
      "[30]\tvalid_0's binary_logloss: 0.28724\tvalid_0's auc: 0.92395\n",
      "[31]\tvalid_0's binary_logloss: 0.286569\tvalid_0's auc: 0.924144\n",
      "[32]\tvalid_0's binary_logloss: 0.286358\tvalid_0's auc: 0.92408\n",
      "Did not meet early stopping. Best iteration is:\n",
      "[32]\tvalid_0's binary_logloss: 0.286358\tvalid_0's auc: 0.92408\n",
      "[1]\tvalid_0's binary_logloss: 0.497052\tvalid_0's auc: 0.901528\n",
      "Training until validation scores don't improve for 5 rounds.\n",
      "[2]\tvalid_0's binary_logloss: 0.460315\tvalid_0's auc: 0.903925\n",
      "[3]\tvalid_0's binary_logloss: 0.432048\tvalid_0's auc: 0.906694\n",
      "[4]\tvalid_0's binary_logloss: 0.410014\tvalid_0's auc: 0.907702\n",
      "[5]\tvalid_0's binary_logloss: 0.391953\tvalid_0's auc: 0.908299\n",
      "[6]\tvalid_0's binary_logloss: 0.37751\tvalid_0's auc: 0.908643\n",
      "[7]\tvalid_0's binary_logloss: 0.3644\tvalid_0's auc: 0.91041\n",
      "[8]\tvalid_0's binary_logloss: 0.354372\tvalid_0's auc: 0.912204\n",
      "[9]\tvalid_0's binary_logloss: 0.345279\tvalid_0's auc: 0.913423\n",
      "[10]\tvalid_0's binary_logloss: 0.337565\tvalid_0's auc: 0.914491\n",
      "[11]\tvalid_0's binary_logloss: 0.331205\tvalid_0's auc: 0.915053\n",
      "[12]\tvalid_0's binary_logloss: 0.325856\tvalid_0's auc: 0.915371\n",
      "[13]\tvalid_0's binary_logloss: 0.321283\tvalid_0's auc: 0.915637\n",
      "[14]\tvalid_0's binary_logloss: 0.316902\tvalid_0's auc: 0.916278\n",
      "[15]\tvalid_0's binary_logloss: 0.313263\tvalid_0's auc: 0.916937\n",
      "[16]\tvalid_0's binary_logloss: 0.309852\tvalid_0's auc: 0.91773\n",
      "[17]\tvalid_0's binary_logloss: 0.30676\tvalid_0's auc: 0.918469\n",
      "[18]\tvalid_0's binary_logloss: 0.303786\tvalid_0's auc: 0.91917\n",
      "[19]\tvalid_0's binary_logloss: 0.301759\tvalid_0's auc: 0.919567\n",
      "[20]\tvalid_0's binary_logloss: 0.299925\tvalid_0's auc: 0.919909\n",
      "[21]\tvalid_0's binary_logloss: 0.298287\tvalid_0's auc: 0.920188\n",
      "[22]\tvalid_0's binary_logloss: 0.296144\tvalid_0's auc: 0.920988\n",
      "[23]\tvalid_0's binary_logloss: 0.294849\tvalid_0's auc: 0.921242\n",
      "[24]\tvalid_0's binary_logloss: 0.293413\tvalid_0's auc: 0.921651\n",
      "[25]\tvalid_0's binary_logloss: 0.291941\tvalid_0's auc: 0.92217\n",
      "[26]\tvalid_0's binary_logloss: 0.291265\tvalid_0's auc: 0.922256\n",
      "[27]\tvalid_0's binary_logloss: 0.290747\tvalid_0's auc: 0.922221\n",
      "[28]\tvalid_0's binary_logloss: 0.289861\tvalid_0's auc: 0.922523\n",
      "[29]\tvalid_0's binary_logloss: 0.288683\tvalid_0's auc: 0.922998\n",
      "[30]\tvalid_0's binary_logloss: 0.287477\tvalid_0's auc: 0.923522\n",
      "[31]\tvalid_0's binary_logloss: 0.286824\tvalid_0's auc: 0.923698\n",
      "[32]\tvalid_0's binary_logloss: 0.286376\tvalid_0's auc: 0.92383\n",
      "Did not meet early stopping. Best iteration is:\n",
      "[32]\tvalid_0's binary_logloss: 0.286376\tvalid_0's auc: 0.92383\n"
     ]
    },
    {
     "name": "stdout",
     "output_type": "stream",
     "text": [
      "[1]\tvalid_0's binary_logloss: 0.496169\tvalid_0's auc: 0.899088\n",
      "Training until validation scores don't improve for 5 rounds.\n",
      "[2]\tvalid_0's binary_logloss: 0.4589\tvalid_0's auc: 0.901652\n",
      "[3]\tvalid_0's binary_logloss: 0.430311\tvalid_0's auc: 0.908778\n",
      "[4]\tvalid_0's binary_logloss: 0.408641\tvalid_0's auc: 0.908637\n",
      "[5]\tvalid_0's binary_logloss: 0.390328\tvalid_0's auc: 0.910405\n",
      "[6]\tvalid_0's binary_logloss: 0.375727\tvalid_0's auc: 0.910956\n",
      "[7]\tvalid_0's binary_logloss: 0.363538\tvalid_0's auc: 0.911494\n",
      "[8]\tvalid_0's binary_logloss: 0.353391\tvalid_0's auc: 0.912047\n",
      "[9]\tvalid_0's binary_logloss: 0.344493\tvalid_0's auc: 0.912635\n",
      "[10]\tvalid_0's binary_logloss: 0.336455\tvalid_0's auc: 0.9137\n",
      "[11]\tvalid_0's binary_logloss: 0.330574\tvalid_0's auc: 0.914104\n",
      "[12]\tvalid_0's binary_logloss: 0.324898\tvalid_0's auc: 0.915711\n",
      "[13]\tvalid_0's binary_logloss: 0.320077\tvalid_0's auc: 0.916234\n",
      "[14]\tvalid_0's binary_logloss: 0.315735\tvalid_0's auc: 0.916801\n",
      "[15]\tvalid_0's binary_logloss: 0.311878\tvalid_0's auc: 0.917585\n",
      "[16]\tvalid_0's binary_logloss: 0.308615\tvalid_0's auc: 0.917996\n",
      "[17]\tvalid_0's binary_logloss: 0.305104\tvalid_0's auc: 0.918885\n",
      "[18]\tvalid_0's binary_logloss: 0.302036\tvalid_0's auc: 0.919769\n",
      "[19]\tvalid_0's binary_logloss: 0.299899\tvalid_0's auc: 0.920255\n",
      "[20]\tvalid_0's binary_logloss: 0.297765\tvalid_0's auc: 0.920804\n",
      "[21]\tvalid_0's binary_logloss: 0.295977\tvalid_0's auc: 0.921268\n",
      "[22]\tvalid_0's binary_logloss: 0.294616\tvalid_0's auc: 0.921666\n",
      "[23]\tvalid_0's binary_logloss: 0.293465\tvalid_0's auc: 0.921854\n",
      "[24]\tvalid_0's binary_logloss: 0.292038\tvalid_0's auc: 0.922362\n",
      "[25]\tvalid_0's binary_logloss: 0.290894\tvalid_0's auc: 0.922703\n",
      "[26]\tvalid_0's binary_logloss: 0.289889\tvalid_0's auc: 0.923051\n",
      "[27]\tvalid_0's binary_logloss: 0.289224\tvalid_0's auc: 0.923112\n",
      "[28]\tvalid_0's binary_logloss: 0.288621\tvalid_0's auc: 0.923211\n",
      "[29]\tvalid_0's binary_logloss: 0.288073\tvalid_0's auc: 0.923291\n",
      "[30]\tvalid_0's binary_logloss: 0.287342\tvalid_0's auc: 0.923565\n",
      "[31]\tvalid_0's binary_logloss: 0.286479\tvalid_0's auc: 0.923893\n",
      "[32]\tvalid_0's binary_logloss: 0.286006\tvalid_0's auc: 0.924033\n",
      "Did not meet early stopping. Best iteration is:\n",
      "[32]\tvalid_0's binary_logloss: 0.286006\tvalid_0's auc: 0.924033\n",
      "[1]\tvalid_0's binary_logloss: 0.496556\tvalid_0's auc: 0.902606\n",
      "Training until validation scores don't improve for 5 rounds.\n",
      "[2]\tvalid_0's binary_logloss: 0.459422\tvalid_0's auc: 0.908359\n",
      "[3]\tvalid_0's binary_logloss: 0.431004\tvalid_0's auc: 0.910137\n",
      "[4]\tvalid_0's binary_logloss: 0.408467\tvalid_0's auc: 0.911449\n",
      "[5]\tvalid_0's binary_logloss: 0.390158\tvalid_0's auc: 0.912256\n",
      "[6]\tvalid_0's binary_logloss: 0.375671\tvalid_0's auc: 0.912992\n",
      "[7]\tvalid_0's binary_logloss: 0.36373\tvalid_0's auc: 0.91329\n",
      "[8]\tvalid_0's binary_logloss: 0.353342\tvalid_0's auc: 0.913833\n",
      "[9]\tvalid_0's binary_logloss: 0.344444\tvalid_0's auc: 0.914684\n",
      "[10]\tvalid_0's binary_logloss: 0.336845\tvalid_0's auc: 0.915584\n",
      "[11]\tvalid_0's binary_logloss: 0.330522\tvalid_0's auc: 0.915889\n",
      "[12]\tvalid_0's binary_logloss: 0.325096\tvalid_0's auc: 0.91643\n",
      "[13]\tvalid_0's binary_logloss: 0.319999\tvalid_0's auc: 0.917144\n",
      "[14]\tvalid_0's binary_logloss: 0.315905\tvalid_0's auc: 0.917542\n",
      "[15]\tvalid_0's binary_logloss: 0.31212\tvalid_0's auc: 0.91807\n",
      "[16]\tvalid_0's binary_logloss: 0.308796\tvalid_0's auc: 0.918575\n",
      "[17]\tvalid_0's binary_logloss: 0.305173\tvalid_0's auc: 0.919641\n",
      "[18]\tvalid_0's binary_logloss: 0.302571\tvalid_0's auc: 0.920216\n",
      "[19]\tvalid_0's binary_logloss: 0.30026\tvalid_0's auc: 0.920786\n",
      "[20]\tvalid_0's binary_logloss: 0.298317\tvalid_0's auc: 0.921248\n",
      "[21]\tvalid_0's binary_logloss: 0.296554\tvalid_0's auc: 0.921583\n",
      "[22]\tvalid_0's binary_logloss: 0.294921\tvalid_0's auc: 0.922043\n",
      "[23]\tvalid_0's binary_logloss: 0.29346\tvalid_0's auc: 0.922398\n",
      "[24]\tvalid_0's binary_logloss: 0.292098\tvalid_0's auc: 0.922744\n",
      "[25]\tvalid_0's binary_logloss: 0.290898\tvalid_0's auc: 0.923091\n",
      "[26]\tvalid_0's binary_logloss: 0.289983\tvalid_0's auc: 0.923253\n",
      "[27]\tvalid_0's binary_logloss: 0.288971\tvalid_0's auc: 0.923631\n",
      "[28]\tvalid_0's binary_logloss: 0.287557\tvalid_0's auc: 0.924205\n",
      "[29]\tvalid_0's binary_logloss: 0.286872\tvalid_0's auc: 0.924362\n",
      "[30]\tvalid_0's binary_logloss: 0.285715\tvalid_0's auc: 0.924846\n",
      "[31]\tvalid_0's binary_logloss: 0.285171\tvalid_0's auc: 0.924935\n",
      "[32]\tvalid_0's binary_logloss: 0.284818\tvalid_0's auc: 0.924978\n",
      "Did not meet early stopping. Best iteration is:\n",
      "[32]\tvalid_0's binary_logloss: 0.284818\tvalid_0's auc: 0.924978\n"
     ]
    },
    {
     "data": {
      "text/plain": [
       "GridSearchCV(cv='warn', error_score='raise-deprecating',\n",
       "       estimator=LGBMClassifier(boosting_type='gbdt', class_weight=None, colsample_bytree=1.0,\n",
       "        importance_type='split', learning_rate=0.125, max_depth=-1,\n",
       "        metric='auc', min_child_samples=20, min_child_weight=0.001,\n",
       "        min_split_gain=0.0, n_estimators=20, n_jobs=-1, num_leaves=38,\n",
       "        objective=None, random_state=None, reg_alpha=0.0, reg_lambda=0.0,\n",
       "        silent=True, subsample=1.0, subsample_for_bin=200000,\n",
       "        subsample_freq=0),\n",
       "       fit_params=None, iid='warn', n_jobs=None,\n",
       "       param_grid={'n_estimators': [20, 24, 28, 32], 'learning_rate': [0.125]},\n",
       "       pre_dispatch='2*n_jobs', refit=True, return_train_score='warn',\n",
       "       scoring=None, verbose=0)"
      ]
     },
     "execution_count": 40,
     "metadata": {},
     "output_type": "execute_result"
    }
   ],
   "source": [
    "estimator = lgb.LGBMClassifier(learning_rate = 0.125, metric = 'auc', \n",
    "                        n_estimators = 20, num_leaves = 38)\n",
    "\n",
    "\n",
    "param_grid = {\n",
    "    'n_estimators': [x for x in range(20, 36, 4)],\n",
    "    'learning_rate': [0.125]}\n",
    "gridsearch = GridSearchCV(estimator, param_grid)\n",
    "\n",
    "gridsearch.fit(x_train, y_train,\n",
    "        eval_set = [(x_test, y_test)],\n",
    "        eval_metric = ['auc','binary_logloss'],\n",
    "        early_stopping_rounds = 5)"
   ]
  },
  {
   "cell_type": "code",
   "execution_count": 41,
   "metadata": {},
   "outputs": [
    {
     "name": "stdout",
     "output_type": "stream",
     "text": [
      "Лучшие параметры grid search: {'learning_rate': 0.125, 'n_estimators': 32}\n"
     ]
    }
   ],
   "source": [
    "print('Лучшие параметры grid search:', gridsearch.best_params_)"
   ]
  },
  {
   "cell_type": "code",
   "execution_count": 42,
   "metadata": {},
   "outputs": [
    {
     "name": "stdout",
     "output_type": "stream",
     "text": [
      "[1]\tvalid_0's binary_logloss: 0.497236\tvalid_0's l1: 0.342994\tvalid_0's auc: 0.900233\n",
      "Training until validation scores don't improve for 5 rounds.\n",
      "[2]\tvalid_0's binary_logloss: 0.460349\tvalid_0's l1: 0.324888\tvalid_0's auc: 0.905349\n",
      "[3]\tvalid_0's binary_logloss: 0.43226\tvalid_0's l1: 0.309062\tvalid_0's auc: 0.906134\n",
      "[4]\tvalid_0's binary_logloss: 0.410257\tvalid_0's l1: 0.29529\tvalid_0's auc: 0.907582\n",
      "[5]\tvalid_0's binary_logloss: 0.39268\tvalid_0's l1: 0.283356\tvalid_0's auc: 0.910167\n",
      "[6]\tvalid_0's binary_logloss: 0.378058\tvalid_0's l1: 0.272601\tvalid_0's auc: 0.910678\n",
      "[7]\tvalid_0's binary_logloss: 0.36592\tvalid_0's l1: 0.263176\tvalid_0's auc: 0.911575\n",
      "[8]\tvalid_0's binary_logloss: 0.355461\tvalid_0's l1: 0.254719\tvalid_0's auc: 0.912535\n",
      "[9]\tvalid_0's binary_logloss: 0.346354\tvalid_0's l1: 0.247189\tvalid_0's auc: 0.913364\n",
      "[10]\tvalid_0's binary_logloss: 0.339231\tvalid_0's l1: 0.24075\tvalid_0's auc: 0.913493\n",
      "[11]\tvalid_0's binary_logloss: 0.332599\tvalid_0's l1: 0.234674\tvalid_0's auc: 0.914738\n",
      "[12]\tvalid_0's binary_logloss: 0.327226\tvalid_0's l1: 0.229395\tvalid_0's auc: 0.915239\n",
      "[13]\tvalid_0's binary_logloss: 0.322518\tvalid_0's l1: 0.224634\tvalid_0's auc: 0.915699\n",
      "[14]\tvalid_0's binary_logloss: 0.318152\tvalid_0's l1: 0.220324\tvalid_0's auc: 0.91653\n",
      "[15]\tvalid_0's binary_logloss: 0.314093\tvalid_0's l1: 0.21629\tvalid_0's auc: 0.917396\n",
      "[16]\tvalid_0's binary_logloss: 0.310657\tvalid_0's l1: 0.2128\tvalid_0's auc: 0.917902\n",
      "[17]\tvalid_0's binary_logloss: 0.307563\tvalid_0's l1: 0.209621\tvalid_0's auc: 0.918706\n",
      "[18]\tvalid_0's binary_logloss: 0.30487\tvalid_0's l1: 0.206824\tvalid_0's auc: 0.919211\n",
      "[19]\tvalid_0's binary_logloss: 0.302571\tvalid_0's l1: 0.204445\tvalid_0's auc: 0.919682\n",
      "[20]\tvalid_0's binary_logloss: 0.300289\tvalid_0's l1: 0.202235\tvalid_0's auc: 0.920455\n",
      "[21]\tvalid_0's binary_logloss: 0.298517\tvalid_0's l1: 0.200297\tvalid_0's auc: 0.920808\n",
      "[22]\tvalid_0's binary_logloss: 0.296328\tvalid_0's l1: 0.198318\tvalid_0's auc: 0.921687\n",
      "[23]\tvalid_0's binary_logloss: 0.295004\tvalid_0's l1: 0.196761\tvalid_0's auc: 0.921909\n",
      "[24]\tvalid_0's binary_logloss: 0.293202\tvalid_0's l1: 0.194988\tvalid_0's auc: 0.922469\n",
      "[25]\tvalid_0's binary_logloss: 0.29141\tvalid_0's l1: 0.193263\tvalid_0's auc: 0.923191\n",
      "[26]\tvalid_0's binary_logloss: 0.290465\tvalid_0's l1: 0.192162\tvalid_0's auc: 0.923437\n",
      "[27]\tvalid_0's binary_logloss: 0.289565\tvalid_0's l1: 0.190972\tvalid_0's auc: 0.923587\n",
      "[28]\tvalid_0's binary_logloss: 0.288576\tvalid_0's l1: 0.189786\tvalid_0's auc: 0.92388\n",
      "[29]\tvalid_0's binary_logloss: 0.287169\tvalid_0's l1: 0.188484\tvalid_0's auc: 0.924489\n",
      "[30]\tvalid_0's binary_logloss: 0.285926\tvalid_0's l1: 0.187363\tvalid_0's auc: 0.925026\n",
      "[31]\tvalid_0's binary_logloss: 0.285346\tvalid_0's l1: 0.186597\tvalid_0's auc: 0.925137\n",
      "[32]\tvalid_0's binary_logloss: 0.284686\tvalid_0's l1: 0.185684\tvalid_0's auc: 0.92533\n",
      "Did not meet early stopping. Best iteration is:\n",
      "[32]\tvalid_0's binary_logloss: 0.284686\tvalid_0's l1: 0.185684\tvalid_0's auc: 0.92533\n"
     ]
    },
    {
     "data": {
      "text/plain": [
       "LGBMClassifier(boosting_type='gbdt', class_weight=None, colsample_bytree=1.0,\n",
       "        importance_type='split', learning_rate=0.125, max_depth=-1,\n",
       "        metric='l1', min_child_samples=20, min_child_weight=0.001,\n",
       "        min_split_gain=0.0, n_estimators=32, n_jobs=-1, num_leaves=31,\n",
       "        objective=None, random_state=None, reg_alpha=0.0, reg_lambda=0.0,\n",
       "        silent=True, subsample=1.0, subsample_for_bin=200000,\n",
       "        subsample_freq=0)"
      ]
     },
     "execution_count": 42,
     "metadata": {},
     "output_type": "execute_result"
    }
   ],
   "source": [
    "gbm = lgb.LGBMClassifier(learning_rate = 0.125, metric = 'l1', \n",
    "                        n_estimators = 32)\n",
    "\n",
    "gbm.fit(x_train, y_train,\n",
    "        eval_set=[(x_test, y_test)],\n",
    "        eval_metric=['auc', 'binary_logloss'],\n",
    "early_stopping_rounds=5)"
   ]
  },
  {
   "cell_type": "code",
   "execution_count": 43,
   "metadata": {
    "scrolled": true
   },
   "outputs": [
    {
     "data": {
      "image/png": "[encoded data removed]",
      "text/plain": [
       "<Figure size 1080x720 with 1 Axes>"
      ]
     },
     "metadata": {
      "needs_background": "light"
     },
     "output_type": "display_data"
    }
   ],
   "source": [
    "ax = lgb.plot_importance(gbm, height = 0.4, \n",
    "                         max_num_features = 50, \n",
    "                         xlim = (0,200), ylim = (0,50), \n",
    "                         figsize = (15,10))\n",
    "plt.show()"
   ]
  },
  {
   "cell_type": "markdown",
   "metadata": {},
   "source": [
    "**Градиентный бустинг куда более точно определяет важность признаков**"
   ]
  },
  {
   "cell_type": "code",
   "execution_count": 46,
   "metadata": {},
   "outputs": [
    {
     "name": "stdout",
     "output_type": "stream",
     "text": [
      "Accuracy: 0.8744966900975909\n",
      "ROC AUC: 0.7937051198120463\n"
     ]
    }
   ],
   "source": [
    "y_pred = gbm.predict(x_test, num_iteration=gbm.best_iteration_)\n",
    "print('Accuracy:', accuracy_score(y_test, y_pred))\n",
    "print('ROC AUC:', roc_auc_score(y_test, y_pred))"
   ]
  },
  {
   "cell_type": "code",
   "execution_count": 51,
   "metadata": {},
   "outputs": [],
   "source": [
    "y_pred_prob = gbm.predict_proba(x_test)[:, 1]"
   ]
  },
  {
   "cell_type": "code",
   "execution_count": 52,
   "metadata": {},
   "outputs": [
    {
     "data": {
      "text/plain": [
       "array([0.13771564, 0.74080616, 0.81589238, ..., 0.08801488, 0.07879401,\n",
       "       0.02006063])"
      ]
     },
     "execution_count": 52,
     "metadata": {},
     "output_type": "execute_result"
    }
   ],
   "source": [
    "y_pred_prob"
   ]
  },
  {
   "cell_type": "code",
   "execution_count": 53,
   "metadata": {},
   "outputs": [],
   "source": [
    "from sklearn import metrics\n",
    "from sklearn.metrics import auc, accuracy_score, roc_auc_score\n",
    "\n",
    "fpr3, tpr3, thresholds3 = metrics.roc_curve(y_test, y_pred_prob)"
   ]
  },
  {
   "cell_type": "code",
   "execution_count": 54,
   "metadata": {},
   "outputs": [
    {
     "data": {
      "image/png": "[encoded data removed]",
      "text/plain": [
       "<Figure size 432x288 with 1 Axes>"
      ]
     },
     "metadata": {
      "needs_background": "light"
     },
     "output_type": "display_data"
    }
   ],
   "source": [
    "plt.plot( fpr, tpr, label = 'All columns. LogisticRegression.' )\n",
    "plt.plot( fpr2, tpr2, label = 'Top 5 features. LogisticRegression.' )\n",
    "plt.plot( fpr3, tpr3, label = 'All columns. LightGBM model.' )\n",
    "\n",
    "\n",
    "plt.xlabel('False Positive Rate')\n",
    "plt.ylabel('True Positive Rate')\n",
    "\n",
    "plt.legend( loc = 0 )\n",
    "plt.show()"
   ]
  },
  {
   "cell_type": "markdown",
   "metadata": {},
   "source": [
    "**Мы видим, что градиентный бустинг над деревьями решений способен обучить модель более точно.**"
   ]
  },
  {
   "cell_type": "markdown",
   "metadata": {},
   "source": [
    "**Увеличить площадь под ROC-кривой можно с помощью стекинга и блендинга, проводя дополнительно feature-инжиниринг.**"
   ]
  },
  {
   "cell_type": "code",
   "execution_count": null,
   "metadata": {},
   "outputs": [],
   "source": []
  }
 ],
 "metadata": {
  "kernelspec": {
   "display_name": "Python 3",
   "language": "python",
   "name": "python3"
  },
  "language_info": {
   "codemirror_mode": {
    "name": "ipython",
    "version": 3
   },
   "file_extension": ".py",
   "mimetype": "text/x-python",
   "name": "python",
   "nbconvert_exporter": "python",
   "pygments_lexer": "ipython3",
   "version": "3.6.6"
  }
 },
 "nbformat": 4,
 "nbformat_minor": 2
}
