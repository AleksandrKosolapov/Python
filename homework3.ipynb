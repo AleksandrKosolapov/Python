{
 "cells": [
  {
   "cell_type": "markdown",
   "metadata": {},
   "source": [
    "Задание 1: Напишите функцию, которая возвращает сумму элементов на диагонали. Т. е. 13+32+23+35. "
   ]
  },
  {
   "cell_type": "code",
   "execution_count": 1,
   "metadata": {},
   "outputs": [],
   "source": [
    "data = [\n",
    "[13, 25, 23, 34],\n",
    "[45, 32, 44, 47],\n",
    "[12, 33, 23, 95],\n",
    "[13, 53, 34, 35],\n",
    "]"
   ]
  },
  {
   "cell_type": "code",
   "execution_count": 2,
   "metadata": {},
   "outputs": [
    {
     "name": "stdout",
     "output_type": "stream",
     "text": [
      "103\n"
     ]
    }
   ],
   "source": [
    "def sum_diagonal(data):\n",
    "    s=0\n",
    "    for i in range(len(data)):\n",
    "        s += data[i][i]\n",
    "    return s\n",
    "print(sum_diagonal(data))"
   ]
  },
  {
   "cell_type": "markdown",
   "metadata": {},
   "source": [
    "Задание 2: Дан список чисел, часть из которых имеют строковый тип или содержат буквы. Напишите функцию, которая возвращает сумму квадратов элементов, которые могут быть числами."
   ]
  },
  {
   "cell_type": "code",
   "execution_count": 3,
   "metadata": {},
   "outputs": [],
   "source": [
    "data = [1, '5', 'abc', 20, '2']"
   ]
  },
  {
   "cell_type": "code",
   "execution_count": 4,
   "metadata": {},
   "outputs": [],
   "source": [
    "def check_and_sum(data):\n",
    "    s=0\n",
    "    error=0\n",
    "    for i in range(len(data)):\n",
    "        try:\n",
    "            a = int(data[i])\n",
    "            s += int(data[i])**2\n",
    "        except ValueError:\n",
    "            s += 0\n",
    "            error+=1\n",
    "    return print ('Сумма квадратов всех найденных чисел в списке равна',s,'. Ошибок выявлено:',error)"
   ]
  },
  {
   "cell_type": "code",
   "execution_count": 5,
   "metadata": {},
   "outputs": [
    {
     "name": "stdout",
     "output_type": "stream",
     "text": [
      "Сумма квадратов всех найденных чисел в списке равна 430 . Ошибок выявлено: 1\n"
     ]
    }
   ],
   "source": [
    "check_and_sum(data)"
   ]
  },
  {
   "cell_type": "markdown",
   "metadata": {},
   "source": [
    "Задание 3: Напишите функцию, которая возвращает название валюты (поле 'Name') с максимальным значением курса с помощью сервиса https://www.cbr-xml-daily.ru/daily_json.js"
   ]
  },
  {
   "cell_type": "code",
   "execution_count": 6,
   "metadata": {},
   "outputs": [],
   "source": [
    "import requests"
   ]
  },
  {
   "cell_type": "code",
   "execution_count": 7,
   "metadata": {},
   "outputs": [],
   "source": [
    "def maxname():\n",
    "    r=requests.get('https://www.cbr-xml-daily.ru/daily_json.js')\n",
    "    valute_list=r.json()['Valute']\n",
    "    \n",
    "    dict_currency={valute_list[i]['Name']: valute_list[i]['Value']/valute_list[i]['Nominal'] for i in valute_list}\n",
    "    return sorted (dict_currency.items(), key = lambda x: x[1], reverse=True)[0][0]"
   ]
  },
  {
   "cell_type": "code",
   "execution_count": 8,
   "metadata": {},
   "outputs": [
    {
     "data": {
      "text/plain": [
       "'СДР (специальные права заимствования)'"
      ]
     },
     "execution_count": 8,
     "metadata": {},
     "output_type": "execute_result"
    }
   ],
   "source": [
    "maxname()"
   ]
  },
  {
   "cell_type": "markdown",
   "metadata": {},
   "source": [
    "Задание 4.1:\n",
    "Последнее упражнение с занятия\n",
    "1. Добавьте в класс еще один формат, который возвращает название валюты (например, 'Евро')."
   ]
  },
  {
   "cell_type": "code",
   "execution_count": 9,
   "metadata": {},
   "outputs": [],
   "source": [
    "import requests"
   ]
  },
  {
   "cell_type": "code",
   "execution_count": 10,
   "metadata": {},
   "outputs": [],
   "source": [
    "class Rate:\n",
    "    def __init__(self, format='value'):\n",
    "        self.format = format\n",
    "    \n",
    "    def exchange_rates(self):\n",
    "        \"\"\"\n",
    "        Возвращает ответ сервиса с информацией о валютах\n",
    "         \"\"\"\n",
    "        \n",
    "        r = requests.get('https://www.cbr-xml-daily.ru/daily_json.js')\n",
    "        return r.json()['Valute']\n",
    "    \n",
    "    def make_format(self, currency):\n",
    "        \"\"\"\n",
    "        Возвращает информацию о валюте currency в двух вариантах:\n",
    "        - полная информация о валюте при self.format = 'full':\n",
    "        Rate('full').make_format('EUR')\n",
    "        {\n",
    "            'CharCode': 'EUR',\n",
    "            'ID': 'R01239',\n",
    "            'Name': 'Евро',\n",
    "            'Nominal': 1,\n",
    "            'NumCode': '978',\n",
    "            'Previous': 79.6765,\n",
    "            'Value': 79.4966\n",
    "        }\n",
    "        \n",
    "        Rate('value').make_format('EUR')\n",
    "        79.4966\n",
    "        \"\"\"\n",
    "        response = self.exchange_rates()\n",
    "        \n",
    "        if currency in response:\n",
    "            if self.format == 'full':\n",
    "                return response[currency]\n",
    "            \n",
    "            if self.format == 'value':\n",
    "                return response[currency]['Value']\n",
    "            \n",
    "            if self.format == 'previous':\n",
    "                return response[currency]['Previous']\n",
    "            \n",
    "            if self.format == 'diff':\n",
    "                if response[currency]['Value'] == response[currency]['Previous']:\n",
    "                    str = 'без изменений'\n",
    "                if response[currency]['Value'] > response[currency]['Previous']:\n",
    "                    str = 'рост'\n",
    "                if response[currency]['Value'] < response[currency]['Previous']:\n",
    "                    str = 'падение'\n",
    "                return round(abs(response[currency]['Value'] - response[currency]['Previous']),4), str\n",
    "            \n",
    "            if self.format == 'name':\n",
    "                return response[currency]['Name']\n",
    "        \n",
    "        return 'Error'\n",
    "    \n",
    "    def eur(self):\n",
    "        \"\"\"Возвращает курс евро на сегодня в формате self.format\"\"\"\n",
    "        return self.make_format('EUR')\n",
    "    \n",
    "    def usd(self):\n",
    "        \"\"\"Возвращает курс доллара на сегодня в формате self.format\"\"\"\n",
    "        return self.make_format('USD')\n",
    "    \n",
    "    def diff(self):\n",
    "        if self.format == 'EUR' or 'USD':\n",
    "            return "
   ]
  },
  {
   "cell_type": "code",
   "execution_count": 11,
   "metadata": {},
   "outputs": [],
   "source": [
    "#if self.format == 'name':\n",
    "#                return response[currency]['Name']"
   ]
  },
  {
   "cell_type": "code",
   "execution_count": 12,
   "metadata": {},
   "outputs": [
    {
     "data": {
      "text/plain": [
       "'Евро'"
      ]
     },
     "execution_count": 12,
     "metadata": {},
     "output_type": "execute_result"
    }
   ],
   "source": [
    "Rate('name').make_format('EUR')"
   ]
  },
  {
   "cell_type": "markdown",
   "metadata": {},
   "source": [
    "Задание 4.2: Добавьте в класс параметр diff (со значениями True или False), который в случае значения True в методах eur и usd будет возвращать не курс валюты, а изменение по сравнению в прошлым значением.\n",
    "    "
   ]
  },
  {
   "cell_type": "code",
   "execution_count": 13,
   "metadata": {},
   "outputs": [
    {
     "data": {
      "text/plain": [
       "(0.9877, 'рост')"
      ]
     },
     "execution_count": 13,
     "metadata": {},
     "output_type": "execute_result"
    }
   ],
   "source": [
    "Rate('diff').eur()"
   ]
  },
  {
   "cell_type": "code",
   "execution_count": 14,
   "metadata": {},
   "outputs": [
    {
     "data": {
      "text/plain": [
       "(0.7781, 'рост')"
      ]
     },
     "execution_count": 14,
     "metadata": {},
     "output_type": "execute_result"
    }
   ],
   "source": [
    "Rate('diff').usd()"
   ]
  },
  {
   "cell_type": "markdown",
   "metadata": {},
   "source": [
    "Задание 5: Напишите функцию, возвращающую сумму первых n чисел Фибоначчи"
   ]
  },
  {
   "cell_type": "code",
   "execution_count": 15,
   "metadata": {},
   "outputs": [],
   "source": [
    "def fib(n):\n",
    "    if n == 1:\n",
    "        return 1\n",
    "    elif n == 0:   \n",
    "        return 0            \n",
    "    else:                      \n",
    "          return fib(n-1) + fib(n-2)"
   ]
  },
  {
   "cell_type": "code",
   "execution_count": 16,
   "metadata": {},
   "outputs": [],
   "source": [
    "def sum_fib(n):\n",
    "    s=0\n",
    "    for i in range(n):\n",
    "        s = s + fib(i)\n",
    "    return s"
   ]
  },
  {
   "cell_type": "code",
   "execution_count": 19,
   "metadata": {},
   "outputs": [
    {
     "data": {
      "text/plain": [
       "88"
      ]
     },
     "execution_count": 19,
     "metadata": {},
     "output_type": "execute_result"
    }
   ],
   "source": [
    "sum_fib(10) "
   ]
  },
  {
   "cell_type": "markdown",
   "metadata": {},
   "source": [
    "Задание 6: Напишите функцию, преобразующую произвольный список вида ['2018-01-01', 'yandex', 'cpc', 100] в словарь {'2018-01-01': {'yandex': {'cpc': 100}}}"
   ]
  },
  {
   "cell_type": "code",
   "execution_count": 20,
   "metadata": {},
   "outputs": [],
   "source": [
    "def deep_dict(*args):\n",
    "    value=args[-1]\n",
    "    for i in range(-1, -len(args), -1):\n",
    "        key=args[i-1]\n",
    "        value={key:value}\n",
    "    return value"
   ]
  },
  {
   "cell_type": "code",
   "execution_count": 26,
   "metadata": {},
   "outputs": [
    {
     "name": "stdout",
     "output_type": "stream",
     "text": [
      "CPU times: user 10 µs, sys: 1 µs, total: 11 µs\n",
      "Wall time: 15.3 µs\n"
     ]
    },
    {
     "data": {
      "text/plain": [
       "{'2018-01-01': {'yandex': {'cpc': 100}}}"
      ]
     },
     "execution_count": 26,
     "metadata": {},
     "output_type": "execute_result"
    }
   ],
   "source": [
    "%%time\n",
    "deep_dict('2018-01-01', 'yandex', 'cpc', 100)"
   ]
  },
  {
   "cell_type": "code",
   "execution_count": 28,
   "metadata": {},
   "outputs": [
    {
     "name": "stdout",
     "output_type": "stream",
     "text": [
      "{'2018-01-01': {'yandex': {'cpc': 100}}}\n",
      "CPU times: user 134 µs, sys: 59 µs, total: 193 µs\n",
      "Wall time: 169 µs\n"
     ]
    }
   ],
   "source": [
    "%%time\n",
    "#другой напрашивающийся способ: преобразование любого списка в словарь при помощи парсера ast.literal_eval\n",
    "import ast\n",
    "a=['2018-01-01', 'yandex', 'cpc', 100]\n",
    "b='{'+str(a).replace(',',': {',len(a)-2)[1:-1]+'}'*(len(a)-1)\n",
    "c=b.replace(',',':')\n",
    "print(ast.literal_eval(c))"
   ]
  }
 ],
 "metadata": {
  "kernelspec": {
   "display_name": "Python 3",
   "language": "python",
   "name": "python3"
  },
  "language_info": {
   "codemirror_mode": {
    "name": "ipython",
    "version": 3
   },
   "file_extension": ".py",
   "mimetype": "text/x-python",
   "name": "python",
   "nbconvert_exporter": "python",
   "pygments_lexer": "ipython3",
   "version": "3.6.5"
  }
 },
 "nbformat": 4,
 "nbformat_minor": 2
}
