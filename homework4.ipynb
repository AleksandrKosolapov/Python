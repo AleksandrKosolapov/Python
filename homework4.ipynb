{
 "cells": [
  {
   "cell_type": "markdown",
   "metadata": {},
   "source": [
    "**Задание 1**:\n",
    "Напишите функцию date_range, которая возвращает список дней между датами start_date и end_date. Даты должны вводиться в формате YYYY-MM-DD."
   ]
  },
  {
   "cell_type": "code",
   "execution_count": 1,
   "metadata": {},
   "outputs": [],
   "source": [
    "from datetime import datetime\n",
    "from datetime import timedelta\n",
    "\n",
    "start_date = '2018-03-07'\n",
    "end_date = '2018-03-20'\n",
    "\n",
    "start_date_dt = datetime.strptime(start_date, '%Y-%m-%d')\n",
    "end_date_dt = datetime.strptime(end_date, '%Y-%m-%d')"
   ]
  },
  {
   "cell_type": "code",
   "execution_count": 2,
   "metadata": {},
   "outputs": [
    {
     "name": "stdout",
     "output_type": "stream",
     "text": [
      "2018-03-07\n",
      "2018-03-08\n",
      "2018-03-09\n",
      "2018-03-10\n",
      "2018-03-11\n",
      "2018-03-12\n",
      "2018-03-13\n",
      "2018-03-14\n",
      "2018-03-15\n",
      "2018-03-16\n",
      "2018-03-17\n",
      "2018-03-18\n",
      "2018-03-19\n",
      "2018-03-20\n"
     ]
    }
   ],
   "source": [
    "current_dt = start_date_dt\n",
    "while current_dt <= end_date_dt:\n",
    "    print(current_dt.strftime('%Y-%m-%d'))\n",
    "    current_dt += timedelta(days=1)"
   ]
  },
  {
   "cell_type": "markdown",
   "metadata": {},
   "source": [
    "**Задание 2**:\n",
    "Дополните функцию из первого задания проверкой на корректность дат. В случае неверного формата или если start_date > end_date должен возвращаться пустой список."
   ]
  },
  {
   "cell_type": "code",
   "execution_count": 3,
   "metadata": {},
   "outputs": [
    {
     "name": "stdout",
     "output_type": "stream",
     "text": [
      "Введен неверный формат даты, напишите дату в формате - YYYY-MM-DD\n"
     ]
    }
   ],
   "source": [
    "start_date = '2018-03-222'\n",
    "end_date = '2018-03-20'\n",
    "\n",
    "try:\n",
    "    start_date_dt = datetime.strptime(start_date, '%Y-%m-%d')\n",
    "    end_date_dt = datetime.strptime(end_date, '%Y-%m-%d')\n",
    "    \n",
    "    current_dt = start_date_dt\n",
    "    \n",
    "    if start_date >= end_date:\n",
    "        print('Внимание! Дата старта должна быть раньше, а не позже. Проверьте и измените даты.')\n",
    "        \n",
    "    if start_date < end_date:\n",
    "        while str(current_dt) <= str(end_date_dt):\n",
    "            print(current_dt.strftime('%Y-%m-%d'))\n",
    "            current_dt += timedelta(days=1)\n",
    "            \n",
    "except ValueError:\n",
    "    print(\"Введен неверный формат даты, напишите дату в формате - YYYY-MM-DD\")"
   ]
  },
  {
   "cell_type": "markdown",
   "metadata": {},
   "source": [
    "**Задание 3**:\n",
    "Дан поток дат в формате YYYY-MM-DD, в которых встречаются некорректные значения:\n",
    "stream = ['2018-04-02', '2018-02-29', '2018-19-02']\n",
    "Напишите функцию, которая проверяет эти даты на корректность. Т. е. для каждой даты возвращает True (дата корректна) или False (некорректная дата)."
   ]
  },
  {
   "cell_type": "code",
   "execution_count": 4,
   "metadata": {},
   "outputs": [],
   "source": [
    "stream = ['2018-04-02', '2018-02-29', '2018-19-02', '2018-02-31', '2018-02-28', '2018-13-02']\n",
    "\n",
    "def correct_date(stream):\n",
    "    counter1 = 0\n",
    "    counter2 = 0\n",
    "    for date in stream:\n",
    "        try:\n",
    "            datetime.strptime(date, '%Y-%m-%d')\n",
    "            print('Дата',date,'корректна')\n",
    "            counter1 += 1\n",
    "        except ValueError:\n",
    "            print(\"Дата\",date,\"некорректна\")\n",
    "            counter2 +=1\n",
    "    print('\\nКорректный формат даты: YYYY-MM-DD . Количество дат указано верно/неверно:',counter1,'/',counter2)\n",
    "            "
   ]
  },
  {
   "cell_type": "code",
   "execution_count": 5,
   "metadata": {},
   "outputs": [
    {
     "name": "stdout",
     "output_type": "stream",
     "text": [
      "Дата 2018-04-02 корректна\n",
      "Дата 2018-02-29 некорректна\n",
      "Дата 2018-19-02 некорректна\n",
      "Дата 2018-02-31 некорректна\n",
      "Дата 2018-02-28 корректна\n",
      "Дата 2018-13-02 некорректна\n",
      "\n",
      "Корректный формат даты: YYYY-MM-DD . Количество дат указано верно/неверно: 2 / 4\n"
     ]
    }
   ],
   "source": [
    "correct_date(stream)"
   ]
  },
  {
   "cell_type": "markdown",
   "metadata": {},
   "source": [
    "**Задание 4**:\n",
    "Напишите функцию, которая возвращает список дат с 1 по вчерашний день текущего месяца. Если дан 1 день месяца, то возвращается список дней прошлого месяца."
   ]
  },
  {
   "cell_type": "code",
   "execution_count": 8,
   "metadata": {},
   "outputs": [
    {
     "name": "stdout",
     "output_type": "stream",
     "text": [
      "Текущее время: 2018-09-12 15:58\n",
      "Сегодня 12 число месяца.\n",
      "Список дат с первого числа месяца:\n",
      "2018-09-01\n",
      "2018-09-02\n",
      "2018-09-03\n",
      "2018-09-04\n",
      "2018-09-05\n",
      "2018-09-06\n",
      "2018-09-07\n",
      "2018-09-08\n",
      "2018-09-09\n",
      "2018-09-10\n",
      "2018-09-11\n"
     ]
    }
   ],
   "source": [
    "now = datetime.now()\n",
    "\n",
    "print(\"Текущее время:\", now.strftime(\"%Y-%m-%d %H:%M\"))\n",
    "print('Сегодня', now.day,'число месяца.\\nСписок дат с первого числа месяца:')\n",
    "\n",
    "if now.day > 1:\n",
    "    start_date_dt = datetime.now() - timedelta(days=now.day-1)\n",
    "    end_date_dt = datetime.now() - timedelta(days=1)\n",
    "    current_dt = start_date_dt\n",
    "        \n",
    "    while current_dt <= end_date_dt:\n",
    "        print(current_dt.strftime('%Y-%m-%d'))\n",
    "        current_dt += timedelta(days=1)\n",
    "    \n",
    "if now.day == 1:\n",
    "    \n",
    "    start_date_dt = datetime.now() - timedelta(months=1)\n",
    "    end_date_dt = datetime.now() - timedelta(days=1)\n",
    "    current_dt = start_date_dt\n",
    "        \n",
    "    while current_dt <= end_date_dt:\n",
    "        print(current_dt.strftime('%Y-%m-%d'))\n",
    "        current_dt += timedelta(days=1)"
   ]
  },
  {
   "cell_type": "markdown",
   "metadata": {},
   "source": [
    "**Задание 5**:\n",
    "Напишите функцию, которая возвращает точную дату в формате YYYY-MM-DD по фразе:\n",
    "1. 'today' - сегодняшнюю дату\n",
    "2. 'last monday' -  прошлый понедельник\n",
    "3. 'last day' - Последний день текущего месяца"
   ]
  },
  {
   "cell_type": "code",
   "execution_count": 9,
   "metadata": {},
   "outputs": [
    {
     "name": "stdout",
     "output_type": "stream",
     "text": [
      "Введите одну из фраз: today, last monday, last day:today\n"
     ]
    }
   ],
   "source": [
    "keyword = input('Введите одну из фраз: today, last monday, last day:')"
   ]
  },
  {
   "cell_type": "code",
   "execution_count": 10,
   "metadata": {},
   "outputs": [
    {
     "data": {
      "text/plain": [
       "'2018-09-12'"
      ]
     },
     "execution_count": 10,
     "metadata": {},
     "output_type": "execute_result"
    }
   ],
   "source": [
    "def get_keyword(keyword):\n",
    "    if keyword == 'today':\n",
    "        return datetime.strftime(datetime.now(), '%Y-%m-%d')\n",
    "    elif keyword == 'last monday' :\n",
    "        return datetime.strftime(datetime.now() - timedelta(datetime.now().weekday()), '%Y-%m-%d')\n",
    "    elif keyword == 'last day':\n",
    "        return datetime.strftime(datetime(datetime.now().year, datetime.now().month+1, 1) - timedelta(days=1), '%Y-%m-%d')\n",
    "    else:\n",
    "        return null\n",
    "    \n",
    "get_keyword(keyword)"
   ]
  },
  {
   "cell_type": "markdown",
   "metadata": {},
   "source": [
    "**Задание 6**:\n",
    "Напишите функцию, которая разбивает на недели с понедельника по воскресенье интервал дат между start_date и end_date. Считайте, что входные данные всегда корректны. В ответ должны входить только полные недели."
   ]
  },
  {
   "cell_type": "code",
   "execution_count": 12,
   "metadata": {},
   "outputs": [
    {
     "name": "stdout",
     "output_type": "stream",
     "text": [
      "2018-01-01  -  2018-01-08\n",
      "2018-01-08  -  2018-01-15\n",
      "2018-01-15  -  2018-01-22\n",
      "2018-01-22  -  2018-01-29\n",
      "2018-01-29  -  2018-02-05\n",
      "2018-02-05  -  2018-02-12\n",
      "2018-02-12  -  2018-02-19\n",
      "2018-02-19  -  2018-02-26\n",
      "2018-02-26  -  2018-03-05\n",
      "2018-03-05  -  2018-03-12\n",
      "2018-03-12  -  2018-03-19\n",
      "2018-03-19  -  2018-03-26\n",
      "2018-03-26  -  2018-04-02\n"
     ]
    }
   ],
   "source": [
    "start_date_dt = datetime.strptime('2018-01-01', '%Y-%m-%d')\n",
    "end_date_dt = datetime.strptime('2018-04-07', '%Y-%m-%d')\n",
    "current_dt = start_date_dt\n",
    "\n",
    "while current_dt <= end_date_dt:\n",
    "    if current_dt.weekday() == 0 and current_dt + timedelta(days=7) <= end_date_dt:\n",
    "        last_dt = current_dt + timedelta(days=7)\n",
    "        print(current_dt.strftime('%Y-%m-%d'),' - ', last_dt.strftime('%Y-%m-%d'))\n",
    "    current_dt += timedelta(days=1)"
   ]
  }
 ],
 "metadata": {
  "kernelspec": {
   "display_name": "Python 3",
   "language": "python",
   "name": "python3"
  },
  "language_info": {
   "codemirror_mode": {
    "name": "ipython",
    "version": 3
   },
   "file_extension": ".py",
   "mimetype": "text/x-python",
   "name": "python",
   "nbconvert_exporter": "python",
   "pygments_lexer": "ipython3",
   "version": "3.6.5"
  }
 },
 "nbformat": 4,
 "nbformat_minor": 2
}
