{
 "cells": [
  {
   "cell_type": "code",
   "execution_count": 1,
   "metadata": {},
   "outputs": [],
   "source": [
    "import numpy as np\n",
    "from scipy import optimize\n",
    "from scipy.optimize import Bounds"
   ]
  },
  {
   "cell_type": "markdown",
   "metadata": {},
   "source": [
    "**Существует массив Z = [1,2,3,4,5,6,7,8,9,10,11,12,13,14], необходимо из него создать массив R = [[1,2,3,4], [2,3,4,5], [3,4,5,6], ...,[11,12,13,14]]?**"
   ]
  },
  {
   "cell_type": "code",
   "execution_count": 2,
   "metadata": {
    "scrolled": true
   },
   "outputs": [
    {
     "data": {
      "text/plain": [
       "[[1, 2, 3, 4],\n",
       " [2, 3, 4, 5],\n",
       " [3, 4, 5, 6],\n",
       " [4, 5, 6, 7],\n",
       " [5, 6, 7, 8],\n",
       " [6, 7, 8, 9],\n",
       " [7, 8, 9, 10],\n",
       " [8, 9, 10, 11],\n",
       " [9, 10, 11, 12],\n",
       " [10, 11, 12, 13],\n",
       " [11, 12, 13, 14]]"
      ]
     },
     "execution_count": 2,
     "metadata": {},
     "output_type": "execute_result"
    }
   ],
   "source": [
    "Z = [1,2,3,4,5,6,7,8,9,10,11,12,13,14]\n",
    "R = [[Z[j] for j in range(i, i+4)] for i in range(0, len(Z)-3)]\n",
    "R"
   ]
  },
  {
   "cell_type": "markdown",
   "metadata": {},
   "source": [
    "**Дана произвольная матрица A. Рассчитать ранг матрицы A.**"
   ]
  },
  {
   "cell_type": "code",
   "execution_count": 3,
   "metadata": {
    "scrolled": true
   },
   "outputs": [
    {
     "data": {
      "text/plain": [
       "3"
      ]
     },
     "execution_count": 3,
     "metadata": {},
     "output_type": "execute_result"
    }
   ],
   "source": [
    "mat = np.matrix([[0, 2, 0], [3, 4, 7], [5, 6, 0]])\n",
    "np.linalg.matrix_rank(mat)"
   ]
  },
  {
   "cell_type": "markdown",
   "metadata": {},
   "source": [
    "**Найти лучший алгоритм для решения следующей задачи: min (x1x4(x1+x2+x3)+x3). Условия: x1x2x3x4≥30 x1^2+x2^2+x3^2+x4^2=60 2≤x1,x2,x3,x4≤6 Начальное приближение: x=(1,5,5,1)**"
   ]
  },
  {
   "cell_type": "code",
   "execution_count": 4,
   "metadata": {},
   "outputs": [],
   "source": [
    "def f(x):\n",
    "    return (x[0]*x[3]*(x[0]+x[1]+x[2])+x[2])"
   ]
  },
  {
   "cell_type": "code",
   "execution_count": 5,
   "metadata": {},
   "outputs": [
    {
     "name": "stdout",
     "output_type": "stream",
     "text": [
      "Optimization terminated successfully.    (Exit mode 0)\n",
      "            Current function value: 52.00000009647094\n",
      "            Iterations: 5\n",
      "            Function evaluations: 30\n",
      "            Gradient evaluations: 5\n"
     ]
    },
    {
     "data": {
      "text/plain": [
       "     fun: 52.00000009647094\n",
       "     jac: array([28.,  4.,  5., 24.])\n",
       " message: 'Optimization terminated successfully.'\n",
       "    nfev: 30\n",
       "     nit: 5\n",
       "    njev: 5\n",
       "  status: 0\n",
       " success: True\n",
       "       x: array([2.        , 6.        , 4.00000002, 2.        ])"
      ]
     },
     "execution_count": 5,
     "metadata": {},
     "output_type": "execute_result"
    }
   ],
   "source": [
    "bounds = Bounds([2, 2, 2, 2], [6, 6, 6, 6])\n",
    "\n",
    "inequal_cons = ({\"type\": \"ineq\", \n",
    "              \"fun\": lambda x: np.array([x[0]*x[1]*x[2]*x[3] - 30]),\n",
    "              \"jac\" : lambda x: np.array([[x[1]*x[2]*x[3] , x[0]*x[2]*x[3] , x[0]*x[1]*x[3] , x[0]*x[1]*x[2]]])\n",
    "             })\n",
    "\n",
    "equal_cons = ({\"type\": \"eq\", \n",
    "              \"fun\": lambda x: np.array([x[0]**2 + x[1]**2 + x[2]**2 + x[3]**2 - 60]),\n",
    "              \"jac\" : lambda x: np.array([[2*x[0] , 2*x[1] , 2*x[2] , 2*x[3]]])\n",
    "           })\n",
    "\n",
    "optimize.minimize(f, [1,5,5,1]\n",
    "                      , method=\"SLSQP\"\n",
    "                      , bounds=bounds\n",
    "                      , constraints = [equal_cons, inequal_cons]\n",
    "                      , options={'disp': True})"
   ]
  },
  {
   "cell_type": "code",
   "execution_count": null,
   "metadata": {},
   "outputs": [],
   "source": []
  }
 ],
 "metadata": {
  "kernelspec": {
   "display_name": "Python 3",
   "language": "python",
   "name": "python3"
  },
  "language_info": {
   "codemirror_mode": {
    "name": "ipython",
    "version": 3
   },
   "file_extension": ".py",
   "mimetype": "text/x-python",
   "name": "python",
   "nbconvert_exporter": "python",
   "pygments_lexer": "ipython3",
   "version": "3.6.5"
  }
 },
 "nbformat": 4,
 "nbformat_minor": 2
}
