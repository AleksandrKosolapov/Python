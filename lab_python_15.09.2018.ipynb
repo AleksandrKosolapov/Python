{
 "cells": [
  {
   "cell_type": "markdown",
   "metadata": {},
   "source": [
    "1.Дан произвольный список, содержащий только числа.Выведите результат сложения всех чисел больше 10. "
   ]
  },
  {
   "cell_type": "code",
   "execution_count": 1,
   "metadata": {},
   "outputs": [
    {
     "data": {
      "text/plain": [
       "326"
      ]
     },
     "execution_count": 1,
     "metadata": {},
     "output_type": "execute_result"
    }
   ],
   "source": [
    "numbers = [1,99,14,4,5,6,88,50,44,20,1,0,1,11]\n",
    "sum([x for x in numbers if x > 10])"
   ]
  },
  {
   "cell_type": "markdown",
   "metadata": {},
   "source": [
    "2.Пусть задан список, содержащий строки.Выведите все строки, заканчивающиеся буковой r."
   ]
  },
  {
   "cell_type": "code",
   "execution_count": 2,
   "metadata": {},
   "outputs": [],
   "source": [
    "keywords = ['radian', 'one meter', 'kilometer', 'radar', 'radius']"
   ]
  },
  {
   "cell_type": "code",
   "execution_count": 3,
   "metadata": {},
   "outputs": [
    {
     "data": {
      "text/plain": [
       "['one meter', 'kilometer', 'radar']"
      ]
     },
     "execution_count": 3,
     "metadata": {},
     "output_type": "execute_result"
    }
   ],
   "source": [
    "[r for r in keywords if r[-1] == 'r']"
   ]
  },
  {
   "cell_type": "markdown",
   "metadata": {},
   "source": [
    "3.Сгенерируйте и выведите cлучайную строку размером 6 символов, содержащуютолько цифры. Строка должна содержать хотя бы однуцифру 3."
   ]
  },
  {
   "cell_type": "code",
   "execution_count": 4,
   "metadata": {},
   "outputs": [],
   "source": [
    "import random\n",
    "def random_nums(i):\n",
    "    rd = str(random.random())\n",
    "    if '3' in rd[2:2+i]:\n",
    "        return rd[2:2+i]\n",
    "    else:\n",
    "        return random_nums(i)"
   ]
  },
  {
   "cell_type": "code",
   "execution_count": 5,
   "metadata": {},
   "outputs": [
    {
     "data": {
      "text/plain": [
       "'781398'"
      ]
     },
     "execution_count": 5,
     "metadata": {},
     "output_type": "execute_result"
    }
   ],
   "source": [
    "random_nums(6)"
   ]
  },
  {
   "cell_type": "markdown",
   "metadata": {},
   "source": [
    "4.Пусть дана строка произвольной длины. Выведите информацию о том,сколько в ней символов и сколько слов."
   ]
  },
  {
   "cell_type": "code",
   "execution_count": 6,
   "metadata": {},
   "outputs": [],
   "source": [
    "any_string = 'Мне кажется, рассчитывая расходы на душу населения, правительство не учитывает тело.'"
   ]
  },
  {
   "cell_type": "code",
   "execution_count": 7,
   "metadata": {},
   "outputs": [
    {
     "name": "stdout",
     "output_type": "stream",
     "text": [
      "В строке 11 слов и 74 символа,не включая пробелы.\n"
     ]
    }
   ],
   "source": [
    "print('В строке',len(any_string.split(' ')),'слов и', len(any_string)-any_string.count(' '),'символа,не включая пробелы.')"
   ]
  },
  {
   "cell_type": "markdown",
   "metadata": {},
   "source": [
    "5.Пусть дана матрица чисел размером NхN. Представьте данную матрицу ввиде списка. Выведите результат сложения всех элементов матрицы."
   ]
  },
  {
   "cell_type": "code",
   "execution_count": 8,
   "metadata": {},
   "outputs": [
    {
     "name": "stdout",
     "output_type": "stream",
     "text": [
      "Список элементов матрицы: [11, 20, 33, 14, 53, 62, 72, 83, 94] . Сумма элементов: 442\n"
     ]
    }
   ],
   "source": [
    "matrix=[[11,20,33],[14,53,62],[72,83,94]]\n",
    "\n",
    "def summatrix(matrix):\n",
    "    listix=[]\n",
    "    for x in matrix:\n",
    "        listix += x\n",
    "    return print('Список элементов матрицы:',listix,'. Сумма элементов:',sum(listix))\n",
    "\n",
    "summatrix(matrix)"
   ]
  },
  {
   "cell_type": "markdown",
   "metadata": {},
   "source": [
    "6.Пусть список студентов представлен в виде структуры [[No, ФИО, Возраст,Группа],[No, ФИО, Возраст, Группа],[No, ФИО, Возраст, Группа]]. Преобразуйте список в словарь вида: {No: [ФИО, Возраст, Группа], No:[....], No: [....]}"
   ]
  },
  {
   "cell_type": "code",
   "execution_count": 9,
   "metadata": {},
   "outputs": [
    {
     "data": {
      "text/plain": [
       "{1: ['Иванов Иван Иванович', 20, 312],\n",
       " 2: ['Петров Петр Петрович', 19, 311],\n",
       " 3: ['Сидоров Арнольд', 20, 312]}"
      ]
     },
     "execution_count": 9,
     "metadata": {},
     "output_type": "execute_result"
    }
   ],
   "source": [
    "students = [[1, 'Иванов Иван Иванович', 20, 312],[2, 'Петров Петр Петрович', 19, 311],[3, 'Сидоров Арнольд', 20, 312]]\n",
    "st_dict = {}\n",
    "for x in students:\n",
    "    st_dict.update({int(x[0]):x[1:len(x)]})\n",
    "st_dict"
   ]
  },
  {
   "cell_type": "markdown",
   "metadata": {},
   "source": [
    "7.Добавьте к задаче No6для словаря возможность (без преобразования словаря обратно в список) изменить группу студента. Поиск по «ФИО» («ФИО» студента и новый номер группы необходимо ввести с клавиатуры)."
   ]
  },
  {
   "cell_type": "code",
   "execution_count": 12,
   "metadata": {
    "scrolled": true
   },
   "outputs": [
    {
     "name": "stdout",
     "output_type": "stream",
     "text": [
      "Введите ФИО студента: Сидоров Арнольд\n",
      "Введите новую группу студента:455\n",
      "Группа указанного студента изменена.\n"
     ]
    }
   ],
   "source": [
    "def update_dict():\n",
    "    a = input('Введите ФИО студента: ')\n",
    "    b = input('Введите новую группу студента: ')\n",
    "    for key, value in st_dict.items():\n",
    "        if value[0] == a:\n",
    "            st_dict[key][-1] = b\n",
    "            print('Группа указанного студента изменена.')\n",
    "\n",
    "update_dict()"
   ]
  },
  {
   "cell_type": "code",
   "execution_count": 13,
   "metadata": {},
   "outputs": [
    {
     "data": {
      "text/plain": [
       "{1: ['Иванов Иван Иванович', 20, 312],\n",
       " 2: ['Петров Петр Петрович', 19, 311],\n",
       " 3: ['Сидоров Арнольд', 20, '455']}"
      ]
     },
     "execution_count": 13,
     "metadata": {},
     "output_type": "execute_result"
    }
   ],
   "source": [
    "st_dict"
   ]
  },
  {
   "cell_type": "markdown",
   "metadata": {},
   "source": [
    "8.*Дана некоторая директория (папка). Посчитайте количество файлов в данной директории (папке) и выведите на  экран."
   ]
  },
  {
   "cell_type": "code",
   "execution_count": 14,
   "metadata": {},
   "outputs": [
    {
     "name": "stdout",
     "output_type": "stream",
     "text": [
      "16\n"
     ]
    }
   ],
   "source": [
    "# Количество файлов в текущей папке:\n",
    "import os\n",
    "print(len(os.listdir(os.getcwd())))"
   ]
  },
  {
   "cell_type": "code",
   "execution_count": 15,
   "metadata": {},
   "outputs": [
    {
     "name": "stdout",
     "output_type": "stream",
     "text": [
      "36\n"
     ]
    }
   ],
   "source": [
    "# Количество файлов в указанной папке:\n",
    "import fnmatch\n",
    "print(len(fnmatch.filter(os.listdir('/Users/a1/Downloads/'), '*.*')))"
   ]
  },
  {
   "cell_type": "code",
   "execution_count": 16,
   "metadata": {},
   "outputs": [
    {
     "name": "stdout",
     "output_type": "stream",
     "text": [
      "754\n"
     ]
    }
   ],
   "source": [
    "# Количество всех файлов в каталоге, включая файлы в подкаталогах:\n",
    "file_count = sum(len(files) for _, _, files in os.walk('/Users/a1/Downloads/'))\n",
    "print(file_count)"
   ]
  }
 ],
 "metadata": {
  "kernelspec": {
   "display_name": "Python 3",
   "language": "python",
   "name": "python3"
  },
  "language_info": {
   "codemirror_mode": {
    "name": "ipython",
    "version": 3
   },
   "file_extension": ".py",
   "mimetype": "text/x-python",
   "name": "python",
   "nbconvert_exporter": "python",
   "pygments_lexer": "ipython3",
   "version": "3.6.5"
  }
 },
 "nbformat": 4,
 "nbformat_minor": 2
}
